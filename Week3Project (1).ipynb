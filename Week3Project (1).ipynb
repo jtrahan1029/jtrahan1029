{
  "nbformat": 4,
  "nbformat_minor": 0,
  "metadata": {
    "colab": {
      "provenance": []
    },
    "kernelspec": {
      "name": "python3",
      "display_name": "Python 3"
    },
    "language_info": {
      "name": "python"
    },
    "accelerator": "GPU",
    "gpuClass": "standard"
  },
  "cells": [
    {
      "cell_type": "markdown",
      "source": [
        "Install the packages I will need for the project"
      ],
      "metadata": {
        "id": "_qb3QFiF0dUM"
      }
    },
    {
      "cell_type": "code",
      "source": [
        "! pip install -q kaggle"
      ],
      "metadata": {
        "id": "qnTnvegOu05b"
      },
      "execution_count": 2,
      "outputs": []
    },
    {
      "cell_type": "markdown",
      "source": [],
      "metadata": {
        "id": "RohSU3CS0ljF"
      }
    },
    {
      "cell_type": "code",
      "source": [
        "! pip install -q Pillow"
      ],
      "metadata": {
        "id": "V65ExEPVk23z"
      },
      "execution_count": 1,
      "outputs": []
    },
    {
      "cell_type": "code",
      "source": [
        "! pip install keras"
      ],
      "metadata": {
        "id": "OG8xB29ZLH5S",
        "colab": {
          "base_uri": "https://localhost:8080/"
        },
        "outputId": "a521c578-e1f9-458a-dd71-456fa3ddb655"
      },
      "execution_count": 3,
      "outputs": [
        {
          "output_type": "stream",
          "name": "stdout",
          "text": [
            "Looking in indexes: https://pypi.org/simple, https://us-python.pkg.dev/colab-wheels/public/simple/\n",
            "Requirement already satisfied: keras in /usr/local/lib/python3.8/dist-packages (2.11.0)\n"
          ]
        }
      ]
    },
    {
      "cell_type": "code",
      "source": [
        "! pip install keras"
      ],
      "metadata": {
        "colab": {
          "base_uri": "https://localhost:8080/"
        },
        "id": "TGgCj9iDubSw",
        "outputId": "0d0e4429-71b7-4fc7-9418-70c964188dfe"
      },
      "execution_count": 4,
      "outputs": [
        {
          "output_type": "stream",
          "name": "stdout",
          "text": [
            "Looking in indexes: https://pypi.org/simple, https://us-python.pkg.dev/colab-wheels/public/simple/\n",
            "Requirement already satisfied: keras in /usr/local/lib/python3.8/dist-packages (2.11.0)\n"
          ]
        }
      ]
    },
    {
      "cell_type": "code",
      "source": [
        "! pip install opendatasets\n"
      ],
      "metadata": {
        "colab": {
          "base_uri": "https://localhost:8080/"
        },
        "id": "whgO6-RWu1Ky",
        "outputId": "fbe0ef1e-3708-4efa-caad-bbcdd0f377d3"
      },
      "execution_count": 5,
      "outputs": [
        {
          "output_type": "stream",
          "name": "stdout",
          "text": [
            "Looking in indexes: https://pypi.org/simple, https://us-python.pkg.dev/colab-wheels/public/simple/\n",
            "Collecting opendatasets\n",
            "  Downloading opendatasets-0.1.22-py3-none-any.whl (15 kB)\n",
            "Requirement already satisfied: click in /usr/local/lib/python3.8/dist-packages (from opendatasets) (8.1.3)\n",
            "Requirement already satisfied: kaggle in /usr/local/lib/python3.8/dist-packages (from opendatasets) (1.5.12)\n",
            "Requirement already satisfied: tqdm in /usr/local/lib/python3.8/dist-packages (from opendatasets) (4.64.1)\n",
            "Requirement already satisfied: urllib3 in /usr/local/lib/python3.8/dist-packages (from kaggle->opendatasets) (1.26.14)\n",
            "Requirement already satisfied: six>=1.10 in /usr/local/lib/python3.8/dist-packages (from kaggle->opendatasets) (1.15.0)\n",
            "Requirement already satisfied: certifi in /usr/local/lib/python3.8/dist-packages (from kaggle->opendatasets) (2022.12.7)\n",
            "Requirement already satisfied: python-slugify in /usr/local/lib/python3.8/dist-packages (from kaggle->opendatasets) (8.0.1)\n",
            "Requirement already satisfied: python-dateutil in /usr/local/lib/python3.8/dist-packages (from kaggle->opendatasets) (2.8.2)\n",
            "Requirement already satisfied: requests in /usr/local/lib/python3.8/dist-packages (from kaggle->opendatasets) (2.25.1)\n",
            "Requirement already satisfied: text-unidecode>=1.3 in /usr/local/lib/python3.8/dist-packages (from python-slugify->kaggle->opendatasets) (1.3)\n",
            "Requirement already satisfied: idna<3,>=2.5 in /usr/local/lib/python3.8/dist-packages (from requests->kaggle->opendatasets) (2.10)\n",
            "Requirement already satisfied: chardet<5,>=3.0.2 in /usr/local/lib/python3.8/dist-packages (from requests->kaggle->opendatasets) (4.0.0)\n",
            "Installing collected packages: opendatasets\n",
            "Successfully installed opendatasets-0.1.22\n"
          ]
        }
      ]
    },
    {
      "cell_type": "markdown",
      "source": [
        "Import the packages that will be used and download the data from Kaggle."
      ],
      "metadata": {
        "id": "Zw0KeScp0oEf"
      }
    },
    {
      "cell_type": "code",
      "execution_count": 6,
      "metadata": {
        "id": "2KMWeBpGuSBO"
      },
      "outputs": [],
      "source": [
        "import numpy as np\n",
        "import math\n",
        "import os\n",
        "import warnings\n",
        "import opendatasets as od\n",
        "import pandas as pd\n",
        "warnings.filterwarnings('ignore')\n",
        "\n"
      ]
    },
    {
      "cell_type": "code",
      "source": [
        "od.download(\n",
        "    \"https://www.kaggle.com/competitions/histopathologic-cancer-detection/data\")"
      ],
      "metadata": {
        "colab": {
          "base_uri": "https://localhost:8080/"
        },
        "id": "QJFEb5dN1B8t",
        "outputId": "d90ba0a6-455b-4f26-bc1b-d8a769e41bdb"
      },
      "execution_count": 7,
      "outputs": [
        {
          "output_type": "stream",
          "name": "stdout",
          "text": [
            "Please provide your Kaggle credentials to download this dataset. Learn more: http://bit.ly/kaggle-creds\n",
            "Your Kaggle username: joshuatrahan\n",
            "Your Kaggle Key: ··········\n",
            "Downloading histopathologic-cancer-detection.zip to ./histopathologic-cancer-detection\n"
          ]
        },
        {
          "output_type": "stream",
          "name": "stderr",
          "text": [
            "100%|██████████| 6.31G/6.31G [05:14<00:00, 21.5MB/s]\n"
          ]
        },
        {
          "output_type": "stream",
          "name": "stdout",
          "text": [
            "\n",
            "Extracting archive ./histopathologic-cancer-detection/histopathologic-cancer-detection.zip to ./histopathologic-cancer-detection\n"
          ]
        }
      ]
    },
    {
      "cell_type": "code",
      "source": [
        "from keras.layers import Conv2D, MaxPool2D, Dropout, Flatten, Dense, BatchNormalization\n",
        "from keras import Sequential\n",
        "from tensorflow.keras.utils import load_img\n",
        "from tensorflow.keras.utils import img_to_array\n",
        "from tensorflow.keras.utils import image_dataset_from_directory\n",
        "from keras.layers.preprocessing.image_preprocessing import Rescaling\n",
        "from keras.layers.serialization import activation\n",
        "from keras.backend import dropout\n",
        "from keras.engine import input_layer\n",
        "from keras import layers\n",
        "import keras\n",
        "import tensorflow as tf\n",
        "\n",
        "from matplotlib.figure import Figure\n",
        "import matplotlib.pyplot as plt\n",
        "from PIL import Image"
      ],
      "metadata": {
        "id": "UeAJx9U62j-X"
      },
      "execution_count": 8,
      "outputs": []
    },
    {
      "cell_type": "markdown",
      "source": [
        "## File Creation and Organization\n",
        "\n",
        "I created a new folder for the jpg version of the images. The training data will be separated into two subfolders, one for the positive images and the other for the negative images."
      ],
      "metadata": {
        "id": "IvfBvKsc03v2"
      }
    },
    {
      "cell_type": "code",
      "source": [
        "os.chdir('/content/histopathologic-cancer-detection')\n",
        "dir = os.getcwd()\n",
        "dir_train = '/content/histopathologic-cancer-detection/train'\n",
        "dir_test = '/content/histopathologic-cancer-detection/test'\n",
        "j_train = '/content/histopathologic-cancer-detection/j_train'\n",
        "j_test = '/content/histopathologic-cancer-detection/j_test'\n",
        "\n",
        "j_train_1 = '/content/histopathologic-cancer-detection/j_train/j_train_1'\n",
        "\n",
        "j_train_2 = '/content/histopathologic-cancer-detection/j_train/j_train_0'\n"
      ],
      "metadata": {
        "id": "Q3OOPZhegTvb"
      },
      "execution_count": 9,
      "outputs": []
    },
    {
      "cell_type": "code",
      "source": [
        "p_train = os.path.join(dir,j_train)\n",
        "p_test = os.path.join(dir, j_test)\n",
        "\n",
        "p_train1 = os.path.join(j_train, j_train_1)\n",
        "p_train2 = os.path.join(j_train, j_train_2)\n",
        "\n",
        "\n",
        "os.mkdir(p_train)\n",
        "os.mkdir(p_test)\n",
        "\n",
        "os.mkdir(p_train1)\n",
        "os.mkdir(p_train2)"
      ],
      "metadata": {
        "id": "xqvENpb0jwc9"
      },
      "execution_count": 10,
      "outputs": []
    },
    {
      "cell_type": "markdown",
      "source": [
        "## Establish Directory Lists\n",
        "\n",
        "I created a list for the files in the directories to help with image preprocessing."
      ],
      "metadata": {
        "id": "Ydn4Anzn1c7O"
      }
    },
    {
      "cell_type": "code",
      "source": [
        "trainLabels = pd.read_csv('./train_labels.csv')\n",
        "trainLabels = trainLabels.sort_values(by=['id'])\n",
        "train_labels = list(trainLabels.label)\n"
      ],
      "metadata": {
        "id": "MbpnEC2PihCo"
      },
      "execution_count": 11,
      "outputs": []
    },
    {
      "cell_type": "code",
      "source": [
        "X_train = os.listdir('./train')\n",
        "X_train = sorted(X_train)"
      ],
      "metadata": {
        "id": "-sSUq5S8SMws"
      },
      "execution_count": 12,
      "outputs": []
    },
    {
      "cell_type": "markdown",
      "source": [
        "## Training Set\n",
        "\n",
        "The training set has 220,025 images. Approximately 60% of the training data is labeled 1 and the other 40% 0."
      ],
      "metadata": {
        "id": "4id1HqhN165I"
      }
    },
    {
      "cell_type": "code",
      "source": [
        "trainLabels.id.nunique(), len(trainLabels)"
      ],
      "metadata": {
        "colab": {
          "base_uri": "https://localhost:8080/"
        },
        "id": "DBnnpX4-i3bD",
        "outputId": "50b1611d-10bc-4abd-f25b-1f5a6e15cbc7"
      },
      "execution_count": 13,
      "outputs": [
        {
          "output_type": "execute_result",
          "data": {
            "text/plain": [
              "(220025, 220025)"
            ]
          },
          "metadata": {},
          "execution_count": 13
        }
      ]
    },
    {
      "cell_type": "code",
      "source": [
        "trainLabels.label.value_counts()"
      ],
      "metadata": {
        "colab": {
          "base_uri": "https://localhost:8080/"
        },
        "id": "n2KMjg1ujUPe",
        "outputId": "3fc247ce-1ae6-4103-c578-5bba94b4bb4a"
      },
      "execution_count": 14,
      "outputs": [
        {
          "output_type": "execute_result",
          "data": {
            "text/plain": [
              "0    130908\n",
              "1     89117\n",
              "Name: label, dtype: int64"
            ]
          },
          "metadata": {},
          "execution_count": 14
        }
      ]
    },
    {
      "cell_type": "markdown",
      "source": [
        "## Image Size (96,96,3)"
      ],
      "metadata": {
        "id": "1bw2eSqU2qLt"
      }
    },
    {
      "cell_type": "code",
      "source": [
        "for i in range(0,5):\n",
        "  img = load_img('./train/'+X_train[i])\n",
        "  img.show()"
      ],
      "metadata": {
        "colab": {
          "base_uri": "https://localhost:8080/",
          "height": 497
        },
        "id": "L2LkPNLYngJ5",
        "outputId": "7dfa6a35-0db9-40b2-f219-ce18f9464a0c"
      },
      "execution_count": 89,
      "outputs": [
        {
          "output_type": "display_data",
          "data": {
            "text/plain": [
              "<PIL.TiffImagePlugin.TiffImageFile image mode=RGB size=96x96 at 0x7FB0FF5FB850>"
            ],
            "image/png": "[encoded data removed]"
          },
          "metadata": {}
        },
        {
          "output_type": "display_data",
          "data": {
            "text/plain": [
              "<PIL.TiffImagePlugin.TiffImageFile image mode=RGB size=96x96 at 0x7FB0FF5FBBE0>"
            ],
            "image/png": "[encoded data removed]"
          },
          "metadata": {}
        },
        {
          "output_type": "display_data",
          "data": {
            "text/plain": [
              "<PIL.TiffImagePlugin.TiffImageFile image mode=RGB size=96x96 at 0x7FB0FF5FBEE0>"
            ],
            "image/png": "[encoded data removed]"
          },
          "metadata": {}
        },
        {
          "output_type": "display_data",
          "data": {
            "text/plain": [
              "<PIL.TiffImagePlugin.TiffImageFile image mode=RGB size=96x96 at 0x7FB0FF5FB760>"
            ],
            "image/png": "[encoded data removed]"
          },
          "metadata": {}
        },
        {
          "output_type": "display_data",
          "data": {
            "text/plain": [
              "<PIL.TiffImagePlugin.TiffImageFile image mode=RGB size=96x96 at 0x7FB0FF5FBA30>"
            ],
            "image/png": "[encoded data removed]"
          },
          "metadata": {}
        }
      ]
    },
    {
      "cell_type": "code",
      "source": [
        "label_lst = list(trainLabels.label)\n",
        "label_lst = sorted(label_lst)\n",
        "\n",
        "img = load_img('./train/'+X_train[i])\n",
        "img = img_to_array(img)\n",
        "img.shape"
      ],
      "metadata": {
        "id": "z6qB4dZnWQgO",
        "colab": {
          "base_uri": "https://localhost:8080/"
        },
        "outputId": "10b70b2e-9cd2-4306-bdf8-3971d61f7918"
      },
      "execution_count": 93,
      "outputs": [
        {
          "output_type": "execute_result",
          "data": {
            "text/plain": [
              "(96, 96, 3)"
            ]
          },
          "metadata": {},
          "execution_count": 93
        }
      ]
    },
    {
      "cell_type": "markdown",
      "source": [
        "## Convert Images to JPG"
      ],
      "metadata": {
        "id": "XLUpfGSj2-di"
      }
    },
    {
      "cell_type": "code",
      "source": [
        "for i in range(len(X_train)):\n",
        "  if train_labels[i] == 1:\n",
        "    img = Image.open('./train/'+ X_train[i])\n",
        "    n_name = X_train[i].replace(\".tif\", \".jpg\")\n",
        "    new_train = './j_train/j_train_1' + \"/\" + n_name\n",
        "    img.save(new_train)\n",
        "  elif train_labels[i] == 0:\n",
        "    img = Image.open('./train/'+ X_train[i])\n",
        "    n_name = X_train[i].replace(\".tif\", \".jpg\")\n",
        "    new_train = './j_train/j_train_0' + \"/\" + n_name\n",
        "    img.save(new_train)\n",
        "  else:\n",
        "    print('damn')\n"
      ],
      "metadata": {
        "id": "mlcXcLta9fMx"
      },
      "execution_count": 17,
      "outputs": []
    },
    {
      "cell_type": "code",
      "source": [
        "for im in os.listdir('./test'):\n",
        "    img = Image.open('./test/'+ im)\n",
        "    n_name = im.replace(\".tif\", \".jpg\")\n",
        "    new_train = './j_test' + \"/\" + n_name\n",
        "    img.save(new_train)"
      ],
      "metadata": {
        "id": "wadEIQhO502p"
      },
      "execution_count": 18,
      "outputs": []
    },
    {
      "cell_type": "markdown",
      "source": [
        "## Check the File Names"
      ],
      "metadata": {
        "id": "rdfbcESj3Jbn"
      }
    },
    {
      "cell_type": "code",
      "source": [
        "test_lst = np.array(os.listdir('./j_test'))\n",
        "\n",
        "df_test = pd.DataFrame(test_lst, columns=['file'])\n",
        "df_test.head()"
      ],
      "metadata": {
        "colab": {
          "base_uri": "https://localhost:8080/",
          "height": 206
        },
        "id": "Vs47XS004592",
        "outputId": "bcb7a2c4-de0a-4617-fa81-cddce45833f4"
      },
      "execution_count": 21,
      "outputs": [
        {
          "output_type": "execute_result",
          "data": {
            "text/plain": [
              "                                           file\n",
              "0  7e916b6a0e78607eec129378f64b670574f7587d.jpg\n",
              "1  0f9eaa0597e4573ca819d8c0b0ef528332039be7.jpg\n",
              "2  a4621037d71d24982534776c73cbdd18f5d36501.jpg\n",
              "3  1dac90f12f4312a5748217a555a44f363e9830b2.jpg\n",
              "4  2b1ae7d6a14f4361de730b1dab41e2e023634877.jpg"
            ],
            "text/html": [
              "\n",
              "  <div id=\"df-13c27e6f-51a8-444a-89c9-66b7b69e8f3d\">\n",
              "    <div class=\"colab-df-container\">\n",
              "      <div>\n",
              "<style scoped>\n",
              "    .dataframe tbody tr th:only-of-type {\n",
              "        vertical-align: middle;\n",
              "    }\n",
              "\n",
              "    .dataframe tbody tr th {\n",
              "        vertical-align: top;\n",
              "    }\n",
              "\n",
              "    .dataframe thead th {\n",
              "        text-align: right;\n",
              "    }\n",
              "</style>\n",
              "<table border=\"1\" class=\"dataframe\">\n",
              "  <thead>\n",
              "    <tr style=\"text-align: right;\">\n",
              "      <th></th>\n",
              "      <th>file</th>\n",
              "    </tr>\n",
              "  </thead>\n",
              "  <tbody>\n",
              "    <tr>\n",
              "      <th>0</th>\n",
              "      <td>7e916b6a0e78607eec129378f64b670574f7587d.jpg</td>\n",
              "    </tr>\n",
              "    <tr>\n",
              "      <th>1</th>\n",
              "      <td>0f9eaa0597e4573ca819d8c0b0ef528332039be7.jpg</td>\n",
              "    </tr>\n",
              "    <tr>\n",
              "      <th>2</th>\n",
              "      <td>a4621037d71d24982534776c73cbdd18f5d36501.jpg</td>\n",
              "    </tr>\n",
              "    <tr>\n",
              "      <th>3</th>\n",
              "      <td>1dac90f12f4312a5748217a555a44f363e9830b2.jpg</td>\n",
              "    </tr>\n",
              "    <tr>\n",
              "      <th>4</th>\n",
              "      <td>2b1ae7d6a14f4361de730b1dab41e2e023634877.jpg</td>\n",
              "    </tr>\n",
              "  </tbody>\n",
              "</table>\n",
              "</div>\n",
              "      <button class=\"colab-df-convert\" onclick=\"convertToInteractive('df-13c27e6f-51a8-444a-89c9-66b7b69e8f3d')\"\n",
              "              title=\"Convert this dataframe to an interactive table.\"\n",
              "              style=\"display:none;\">\n",
              "        \n",
              "  <svg xmlns=\"http://www.w3.org/2000/svg\" height=\"24px\"viewBox=\"0 0 24 24\"\n",
              "       width=\"24px\">\n",
              "    <path d=\"M0 0h24v24H0V0z\" fill=\"none\"/>\n",
              "    <path d=\"M18.56 5.44l.94 2.06.94-2.06 2.06-.94-2.06-.94-.94-2.06-.94 2.06-2.06.94zm-11 1L8.5 8.5l.94-2.06 2.06-.94-2.06-.94L8.5 2.5l-.94 2.06-2.06.94zm10 10l.94 2.06.94-2.06 2.06-.94-2.06-.94-.94-2.06-.94 2.06-2.06.94z\"/><path d=\"M17.41 7.96l-1.37-1.37c-.4-.4-.92-.59-1.43-.59-.52 0-1.04.2-1.43.59L10.3 9.45l-7.72 7.72c-.78.78-.78 2.05 0 2.83L4 21.41c.39.39.9.59 1.41.59.51 0 1.02-.2 1.41-.59l7.78-7.78 2.81-2.81c.8-.78.8-2.07 0-2.86zM5.41 20L4 18.59l7.72-7.72 1.47 1.35L5.41 20z\"/>\n",
              "  </svg>\n",
              "      </button>\n",
              "      \n",
              "  <style>\n",
              "    .colab-df-container {\n",
              "      display:flex;\n",
              "      flex-wrap:wrap;\n",
              "      gap: 12px;\n",
              "    }\n",
              "\n",
              "    .colab-df-convert {\n",
              "      background-color: #E8F0FE;\n",
              "      border: none;\n",
              "      border-radius: 50%;\n",
              "      cursor: pointer;\n",
              "      display: none;\n",
              "      fill: #1967D2;\n",
              "      height: 32px;\n",
              "      padding: 0 0 0 0;\n",
              "      width: 32px;\n",
              "    }\n",
              "\n",
              "    .colab-df-convert:hover {\n",
              "      background-color: #E2EBFA;\n",
              "      box-shadow: 0px 1px 2px rgba(60, 64, 67, 0.3), 0px 1px 3px 1px rgba(60, 64, 67, 0.15);\n",
              "      fill: #174EA6;\n",
              "    }\n",
              "\n",
              "    [theme=dark] .colab-df-convert {\n",
              "      background-color: #3B4455;\n",
              "      fill: #D2E3FC;\n",
              "    }\n",
              "\n",
              "    [theme=dark] .colab-df-convert:hover {\n",
              "      background-color: #434B5C;\n",
              "      box-shadow: 0px 1px 3px 1px rgba(0, 0, 0, 0.15);\n",
              "      filter: drop-shadow(0px 1px 2px rgba(0, 0, 0, 0.3));\n",
              "      fill: #FFFFFF;\n",
              "    }\n",
              "  </style>\n",
              "\n",
              "      <script>\n",
              "        const buttonEl =\n",
              "          document.querySelector('#df-13c27e6f-51a8-444a-89c9-66b7b69e8f3d button.colab-df-convert');\n",
              "        buttonEl.style.display =\n",
              "          google.colab.kernel.accessAllowed ? 'block' : 'none';\n",
              "\n",
              "        async function convertToInteractive(key) {\n",
              "          const element = document.querySelector('#df-13c27e6f-51a8-444a-89c9-66b7b69e8f3d');\n",
              "          const dataTable =\n",
              "            await google.colab.kernel.invokeFunction('convertToInteractive',\n",
              "                                                     [key], {});\n",
              "          if (!dataTable) return;\n",
              "\n",
              "          const docLinkHtml = 'Like what you see? Visit the ' +\n",
              "            '<a target=\"_blank\" href=https://colab.research.google.com/notebooks/data_table.ipynb>data table notebook</a>'\n",
              "            + ' to learn more about interactive tables.';\n",
              "          element.innerHTML = '';\n",
              "          dataTable['output_type'] = 'display_data';\n",
              "          await google.colab.output.renderOutput(dataTable, element);\n",
              "          const docLink = document.createElement('div');\n",
              "          docLink.innerHTML = docLinkHtml;\n",
              "          element.appendChild(docLink);\n",
              "        }\n",
              "      </script>\n",
              "    </div>\n",
              "  </div>\n",
              "  "
            ]
          },
          "metadata": {},
          "execution_count": 21
        }
      ]
    },
    {
      "cell_type": "markdown",
      "source": [
        "## Model Building with Sequential"
      ],
      "metadata": {
        "id": "kMvUyuuN3SNv"
      }
    },
    {
      "cell_type": "code",
      "source": [
        "model = Sequential()\n",
        "\n",
        "model.add(layers.Rescaling(scale = 1./255,input_shape=(96,96,3)))\n",
        "\n",
        "model.add(Conv2D(filters = 16, kernel_size = (3,3), activation='relu'))\n",
        "\n",
        "model.add(Conv2D(filters = 32, kernel_size = (3,3), activation='relu'))\n",
        "model.add(MaxPool2D(pool_size=(2,2)))\n",
        "\n",
        "model.add(Conv2D(filters = 64, kernel_size = (3,3), activation='relu'))\n",
        "model.add(MaxPool2D(pool_size=(2,2)))\n",
        "\n",
        "model.add(Conv2D(filters = 128, kernel_size = (3,3), activation='relu'))\n",
        "model.add(MaxPool2D(pool_size=(2,2)))\n",
        "\n",
        "model.add(Conv2D(filters = 256, kernel_size = (3,3), activation='relu'))\n",
        "model.add(MaxPool2D(pool_size=(2,2)))\n",
        "\n",
        "model.add(Dropout(rate = .10))\n",
        "\n",
        "model.add(Flatten())\n",
        "model.add(Dense(units = 64, activation = 'relu'))\n",
        "model.add(Dropout(rate = .10))\n",
        "model.add(Dense(units = 1, activation = 'sigmoid'))\n",
        "\n",
        "\n",
        "model.summary()"
      ],
      "metadata": {
        "colab": {
          "base_uri": "https://localhost:8080/"
        },
        "id": "spW19vAyMZhP",
        "outputId": "c5504b38-ed07-4906-e8f2-72fdf48d72e1"
      },
      "execution_count": 28,
      "outputs": [
        {
          "output_type": "stream",
          "name": "stdout",
          "text": [
            "Model: \"sequential_1\"\n",
            "_________________________________________________________________\n",
            " Layer (type)                Output Shape              Param #   \n",
            "=================================================================\n",
            " rescaling_1 (Rescaling)     (None, 96, 96, 3)         0         \n",
            "                                                                 \n",
            " conv2d_5 (Conv2D)           (None, 94, 94, 16)        448       \n",
            "                                                                 \n",
            " conv2d_6 (Conv2D)           (None, 92, 92, 32)        4640      \n",
            "                                                                 \n",
            " max_pooling2d_4 (MaxPooling  (None, 46, 46, 32)       0         \n",
            " 2D)                                                             \n",
            "                                                                 \n",
            " conv2d_7 (Conv2D)           (None, 44, 44, 64)        18496     \n",
            "                                                                 \n",
            " max_pooling2d_5 (MaxPooling  (None, 22, 22, 64)       0         \n",
            " 2D)                                                             \n",
            "                                                                 \n",
            " conv2d_8 (Conv2D)           (None, 20, 20, 128)       73856     \n",
            "                                                                 \n",
            " max_pooling2d_6 (MaxPooling  (None, 10, 10, 128)      0         \n",
            " 2D)                                                             \n",
            "                                                                 \n",
            " conv2d_9 (Conv2D)           (None, 8, 8, 256)         295168    \n",
            "                                                                 \n",
            " max_pooling2d_7 (MaxPooling  (None, 4, 4, 256)        0         \n",
            " 2D)                                                             \n",
            "                                                                 \n",
            " dropout_2 (Dropout)         (None, 4, 4, 256)         0         \n",
            "                                                                 \n",
            " flatten_1 (Flatten)         (None, 4096)              0         \n",
            "                                                                 \n",
            " dense_2 (Dense)             (None, 64)                262208    \n",
            "                                                                 \n",
            " dropout_3 (Dropout)         (None, 64)                0         \n",
            "                                                                 \n",
            " dense_3 (Dense)             (None, 1)                 65        \n",
            "                                                                 \n",
            "=================================================================\n",
            "Total params: 654,881\n",
            "Trainable params: 654,881\n",
            "Non-trainable params: 0\n",
            "_________________________________________________________________\n"
          ]
        }
      ]
    },
    {
      "cell_type": "code",
      "source": [
        "model.compile(optimizer='adam', loss = keras.losses.binary_crossentropy, metrics = 'accuracy')"
      ],
      "metadata": {
        "id": "1EGZzZwnNsvZ"
      },
      "execution_count": 29,
      "outputs": []
    },
    {
      "cell_type": "markdown",
      "source": [
        "## Preprocess the Images\n",
        "\n",
        "I divided my training dataset into 80% training data and 20% validation data. "
      ],
      "metadata": {
        "id": "HX19iJXc330t"
      }
    },
    {
      "cell_type": "code",
      "source": [
        "train_generator = keras.utils.image_dataset_from_directory(\n",
        "    directory = './j_train',\n",
        "    labels='inferred',\n",
        "    label_mode='binary',\n",
        "    class_names=None,\n",
        "    color_mode='rgb',\n",
        "    batch_size=32,\n",
        "    image_size=(96, 96),\n",
        "    shuffle=True,\n",
        "    seed=123,\n",
        "    validation_split=.20,\n",
        "    subset='training')\n",
        "\n",
        "train_generator_val = keras.utils.image_dataset_from_directory(\n",
        "    directory = './j_train',\n",
        "    labels='inferred',\n",
        "    label_mode='binary',\n",
        "    class_names=None,\n",
        "    color_mode='rgb',\n",
        "    batch_size=32,\n",
        "    image_size=(96,96),\n",
        "    shuffle=True,\n",
        "    seed=123,\n",
        "    validation_split=.20,\n",
        "    subset='validation')\n",
        "\n"
      ],
      "metadata": {
        "colab": {
          "base_uri": "https://localhost:8080/"
        },
        "id": "0hpW1NVjQHXl",
        "outputId": "65f9951c-ecff-4a92-a765-cbf35dba345e"
      },
      "execution_count": 25,
      "outputs": [
        {
          "output_type": "stream",
          "name": "stdout",
          "text": [
            "Found 220025 files belonging to 2 classes.\n",
            "Using 176020 files for training.\n",
            "Found 220025 files belonging to 2 classes.\n",
            "Using 44005 files for validation.\n"
          ]
        }
      ]
    },
    {
      "cell_type": "markdown",
      "source": [
        "## Preprocess the Testing Data\n",
        "\n",
        "I opted to use ImageDataGenerate for my testing data since the data is not divided into class folders. Using the this generator and a dataframe structure, I was able to correctly format the test images."
      ],
      "metadata": {
        "id": "PGRiZtCG4Rjw"
      }
    },
    {
      "cell_type": "code",
      "source": [
        "test_generator = tf.keras.preprocessing.image.ImageDataGenerator()\n",
        "\n",
        "test_data = test_generator.flow_from_dataframe(directory='./j_test', dataframe= df_test, class_mode = None, shuffle = False,x_col = 'file', y_col=None,target_size = (96,96))"
      ],
      "metadata": {
        "colab": {
          "base_uri": "https://localhost:8080/"
        },
        "id": "NBjfXr3e4-wp",
        "outputId": "b7646a5f-d12a-4b7f-9b25-f21db5c13219"
      },
      "execution_count": 23,
      "outputs": [
        {
          "output_type": "stream",
          "name": "stdout",
          "text": [
            "Found 57458 validated image filenames.\n"
          ]
        }
      ]
    },
    {
      "cell_type": "markdown",
      "source": [
        "## Fitting My Model\n",
        "\n",
        "In order to manage the training process I am using early stopping and model checkpoint as callbacks. I am looking for a minimum change in accuracy of .005 for at least 5 epochs (patience = 5).\n",
        "\n",
        "I reduced my dropout in my model in order to help fit the model better. I also added an additional Conv2D and Maxpooling2D to my initial model to help with accuracy. \n",
        "\n",
        "I opted for the adam optimizer."
      ],
      "metadata": {
        "id": "WYSokC_g5VDu"
      }
    },
    {
      "cell_type": "code",
      "source": [
        "from keras.callbacks import ModelCheckpoint, EarlyStopping\n",
        "\n",
        "early_stop = EarlyStopping(monitor='val_accuracy', min_delta=0.005, patience = 5, verbose = 1, mode = 'auto')\n",
        "mod_checkpt = ModelCheckpoint(monitor = 'val_accuracy', filepath='./best_mod.b1', verbose = 1, save_best_only= True)\n",
        "\n",
        "cb = [early_stop, mod_checkpt]\n",
        "\n",
        "outcomes = model.fit_generator(generator = train_generator, steps_per_epoch=8, epochs=100, callbacks=cb, \n",
        "                               verbose = 1, validation_data=train_generator_val)\n",
        "\n"
      ],
      "metadata": {
        "colab": {
          "base_uri": "https://localhost:8080/"
        },
        "id": "aqKa5uat8e8p",
        "outputId": "28c8f05a-b542-4e4e-eab3-ceec97a31c9b"
      },
      "execution_count": 30,
      "outputs": [
        {
          "output_type": "stream",
          "name": "stdout",
          "text": [
            "Epoch 1/100\n",
            "7/8 [=========================>....] - ETA: 0s - loss: 0.6880 - accuracy: 0.5982\n",
            "Epoch 1: val_accuracy improved from -inf to 0.59759, saving model to ./best_mod.b1\n"
          ]
        },
        {
          "output_type": "stream",
          "name": "stderr",
          "text": [
            "WARNING:absl:Found untraced functions such as _jit_compiled_convolution_op, _jit_compiled_convolution_op, _jit_compiled_convolution_op, _jit_compiled_convolution_op, _jit_compiled_convolution_op while saving (showing 5 of 5). These functions will not be directly callable after loading.\n"
          ]
        },
        {
          "output_type": "stream",
          "name": "stdout",
          "text": [
            "\b\b\b\b\b\b\b\b\b\b\b\b\b\b\b\b\b\b\b\b\b\b\b\b\b\b\b\b\b\b\b\b\b\b\b\b\b\b\b\b\b\b\b\b\b\b\b\b\b\b\b\b\b\b\b\b\b\b\b\b\b\b\b\b\b\b\b\b\b\b\b\b\b\b\b\b\b\b\b\b\r8/8 [==============================] - 21s 3s/step - loss: 0.6840 - accuracy: 0.6016 - val_loss: 0.6647 - val_accuracy: 0.5976\n",
            "Epoch 2/100\n",
            "7/8 [=========================>....] - ETA: 0s - loss: 0.6588 - accuracy: 0.6116\n",
            "Epoch 2: val_accuracy did not improve from 0.59759\n",
            "8/8 [==============================] - 21s 3s/step - loss: 0.6550 - accuracy: 0.6133 - val_loss: 0.6535 - val_accuracy: 0.5976\n",
            "Epoch 3/100\n",
            "8/8 [==============================] - ETA: 0s - loss: 0.6609 - accuracy: 0.5977\n",
            "Epoch 3: val_accuracy did not improve from 0.59759\n",
            "8/8 [==============================] - 15s 2s/step - loss: 0.6609 - accuracy: 0.5977 - val_loss: 0.6582 - val_accuracy: 0.5975\n",
            "Epoch 4/100\n",
            "8/8 [==============================] - ETA: 0s - loss: 0.6242 - accuracy: 0.6211\n",
            "Epoch 4: val_accuracy improved from 0.59759 to 0.61266, saving model to ./best_mod.b1\n"
          ]
        },
        {
          "output_type": "stream",
          "name": "stderr",
          "text": [
            "WARNING:absl:Found untraced functions such as _jit_compiled_convolution_op, _jit_compiled_convolution_op, _jit_compiled_convolution_op, _jit_compiled_convolution_op, _jit_compiled_convolution_op while saving (showing 5 of 5). These functions will not be directly callable after loading.\n"
          ]
        },
        {
          "output_type": "stream",
          "name": "stdout",
          "text": [
            "\b\b\b\b\b\b\b\b\b\b\b\b\b\b\b\b\b\b\b\b\b\b\b\b\b\b\b\b\b\b\b\b\b\b\b\b\b\b\b\b\b\b\b\b\b\b\b\b\b\b\b\b\b\b\b\b\b\b\b\b\b\b\b\b\b\b\b\b\b\b\b\b\b\b\b\b\b\b\b\b\r8/8 [==============================] - 18s 3s/step - loss: 0.6242 - accuracy: 0.6211 - val_loss: 0.6168 - val_accuracy: 0.6127\n",
            "Epoch 5/100\n",
            "7/8 [=========================>....] - ETA: 0s - loss: 0.6054 - accuracy: 0.6786\n",
            "Epoch 5: val_accuracy improved from 0.61266 to 0.67033, saving model to ./best_mod.b1\n"
          ]
        },
        {
          "output_type": "stream",
          "name": "stderr",
          "text": [
            "WARNING:absl:Found untraced functions such as _jit_compiled_convolution_op, _jit_compiled_convolution_op, _jit_compiled_convolution_op, _jit_compiled_convolution_op, _jit_compiled_convolution_op while saving (showing 5 of 5). These functions will not be directly callable after loading.\n"
          ]
        },
        {
          "output_type": "stream",
          "name": "stdout",
          "text": [
            "\b\b\b\b\b\b\b\b\b\b\b\b\b\b\b\b\b\b\b\b\b\b\b\b\b\b\b\b\b\b\b\b\b\b\b\b\b\b\b\b\b\b\b\b\b\b\b\b\b\b\b\b\b\b\b\b\b\b\b\b\b\b\b\b\b\b\b\b\b\b\b\b\b\b\b\b\b\b\b\b\r8/8 [==============================] - 18s 3s/step - loss: 0.6342 - accuracy: 0.6523 - val_loss: 0.5830 - val_accuracy: 0.6703\n",
            "Epoch 6/100\n",
            "7/8 [=========================>....] - ETA: 0s - loss: 0.6467 - accuracy: 0.6205\n",
            "Epoch 6: val_accuracy did not improve from 0.67033\n",
            "8/8 [==============================] - 16s 2s/step - loss: 0.6504 - accuracy: 0.6172 - val_loss: 0.6010 - val_accuracy: 0.6386\n",
            "Epoch 7/100\n",
            "7/8 [=========================>....] - ETA: 0s - loss: 0.6192 - accuracy: 0.5982\n",
            "Epoch 7: val_accuracy improved from 0.67033 to 0.74392, saving model to ./best_mod.b1\n"
          ]
        },
        {
          "output_type": "stream",
          "name": "stderr",
          "text": [
            "WARNING:absl:Found untraced functions such as _jit_compiled_convolution_op, _jit_compiled_convolution_op, _jit_compiled_convolution_op, _jit_compiled_convolution_op, _jit_compiled_convolution_op while saving (showing 5 of 5). These functions will not be directly callable after loading.\n"
          ]
        },
        {
          "output_type": "stream",
          "name": "stdout",
          "text": [
            "\b\b\b\b\b\b\b\b\b\b\b\b\b\b\b\b\b\b\b\b\b\b\b\b\b\b\b\b\b\b\b\b\b\b\b\b\b\b\b\b\b\b\b\b\b\b\b\b\b\b\b\b\b\b\b\b\b\b\b\b\b\b\b\b\b\b\b\b\b\b\b\b\b\b\b\b\b\b\b\b\r8/8 [==============================] - 18s 3s/step - loss: 0.6164 - accuracy: 0.6133 - val_loss: 0.6112 - val_accuracy: 0.7439\n",
            "Epoch 8/100\n",
            "8/8 [==============================] - ETA: 0s - loss: 0.5913 - accuracy: 0.7383\n",
            "Epoch 8: val_accuracy improved from 0.74392 to 0.76425, saving model to ./best_mod.b1\n"
          ]
        },
        {
          "output_type": "stream",
          "name": "stderr",
          "text": [
            "WARNING:absl:Found untraced functions such as _jit_compiled_convolution_op, _jit_compiled_convolution_op, _jit_compiled_convolution_op, _jit_compiled_convolution_op, _jit_compiled_convolution_op while saving (showing 5 of 5). These functions will not be directly callable after loading.\n"
          ]
        },
        {
          "output_type": "stream",
          "name": "stdout",
          "text": [
            "\b\b\b\b\b\b\b\b\b\b\b\b\b\b\b\b\b\b\b\b\b\b\b\b\b\b\b\b\b\b\b\b\b\b\b\b\b\b\b\b\b\b\b\b\b\b\b\b\b\b\b\b\b\b\b\b\b\b\b\b\b\b\b\b\b\b\b\b\b\b\b\b\b\b\b\b\b\b\b\b\r8/8 [==============================] - 17s 2s/step - loss: 0.5913 - accuracy: 0.7383 - val_loss: 0.5196 - val_accuracy: 0.7643\n",
            "Epoch 9/100\n",
            "7/8 [=========================>....] - ETA: 0s - loss: 0.5619 - accuracy: 0.7411\n",
            "Epoch 9: val_accuracy did not improve from 0.76425\n",
            "8/8 [==============================] - 18s 3s/step - loss: 0.5595 - accuracy: 0.7422 - val_loss: 0.5141 - val_accuracy: 0.7535\n",
            "Epoch 10/100\n",
            "7/8 [=========================>....] - ETA: 0s - loss: 0.5286 - accuracy: 0.7411\n",
            "Epoch 10: val_accuracy did not improve from 0.76425\n",
            "8/8 [==============================] - 21s 3s/step - loss: 0.5437 - accuracy: 0.7344 - val_loss: 0.7444 - val_accuracy: 0.6445\n",
            "Epoch 11/100\n",
            "7/8 [=========================>....] - ETA: 0s - loss: 0.6261 - accuracy: 0.7009\n",
            "Epoch 11: val_accuracy did not improve from 0.76425\n",
            "8/8 [==============================] - 18s 3s/step - loss: 0.6185 - accuracy: 0.7266 - val_loss: 0.6151 - val_accuracy: 0.7278\n",
            "Epoch 12/100\n",
            "7/8 [=========================>....] - ETA: 0s - loss: 0.6003 - accuracy: 0.7411\n",
            "Epoch 12: val_accuracy did not improve from 0.76425\n",
            "8/8 [==============================] - 21s 3s/step - loss: 0.5973 - accuracy: 0.7422 - val_loss: 0.5512 - val_accuracy: 0.7412\n",
            "Epoch 13/100\n",
            "8/8 [==============================] - ETA: 0s - loss: 0.5093 - accuracy: 0.7539\n",
            "Epoch 13: val_accuracy did not improve from 0.76425\n",
            "8/8 [==============================] - 16s 2s/step - loss: 0.5093 - accuracy: 0.7539 - val_loss: 0.5290 - val_accuracy: 0.7544\n",
            "Epoch 13: early stopping\n"
          ]
        }
      ]
    },
    {
      "cell_type": "markdown",
      "source": [
        "## Check Accuracy of Training\n",
        "\n",
        "My accuracy and validation accuracy are very close for each epoch, so that gives me confidence that I am not overfitting."
      ],
      "metadata": {
        "id": "bZEhFNxL7plk"
      }
    },
    {
      "cell_type": "code",
      "source": [
        "outcomes = outcomes.history\n",
        "\n",
        "outcomes['val_accuracy'],outcomes['accuracy']\n"
      ],
      "metadata": {
        "colab": {
          "base_uri": "https://localhost:8080/"
        },
        "id": "L16AdlPXgdzo",
        "outputId": "672e2b47-2565-4a1e-f65b-b80ccf10d2d4"
      },
      "execution_count": 31,
      "outputs": [
        {
          "output_type": "execute_result",
          "data": {
            "text/plain": [
              "([0.5975911617279053,\n",
              "  0.5975911617279053,\n",
              "  0.5974775552749634,\n",
              "  0.6126576662063599,\n",
              "  0.6703329086303711,\n",
              "  0.6386092305183411,\n",
              "  0.7439154386520386,\n",
              "  0.7642540335655212,\n",
              "  0.7534825801849365,\n",
              "  0.6445176601409912,\n",
              "  0.7277809381484985,\n",
              "  0.7412112355232239,\n",
              "  0.7543688416481018],\n",
              " [0.6015625,\n",
              "  0.61328125,\n",
              "  0.59765625,\n",
              "  0.62109375,\n",
              "  0.65234375,\n",
              "  0.6171875,\n",
              "  0.61328125,\n",
              "  0.73828125,\n",
              "  0.7421875,\n",
              "  0.734375,\n",
              "  0.7265625,\n",
              "  0.7421875,\n",
              "  0.75390625])"
            ]
          },
          "metadata": {},
          "execution_count": 31
        }
      ]
    },
    {
      "cell_type": "code",
      "source": [
        "plt.plot(outcomes['accuracy'])\n",
        "plt.plot(outcomes['val_accuracy'])\n",
        "plt.title('Accuracy Comparison')\n",
        "\n",
        "plt.show()"
      ],
      "metadata": {
        "colab": {
          "base_uri": "https://localhost:8080/",
          "height": 281
        },
        "id": "MOMwdBHe8LC7",
        "outputId": "fcbdd5ac-09c9-4b5f-ca8f-250992366920"
      },
      "execution_count": 35,
      "outputs": [
        {
          "output_type": "display_data",
          "data": {
            "text/plain": [
              "<Figure size 432x288 with 1 Axes>"
            ],
            "image/png": "[encoded data removed]"
          },
          "metadata": {
            "needs_background": "light"
          }
        }
      ]
    },
    {
      "cell_type": "markdown",
      "source": [
        "## Load Best Model and Predict"
      ],
      "metadata": {
        "id": "uGRIH6oy7-CR"
      }
    },
    {
      "cell_type": "code",
      "source": [
        "model = keras.models.load_model('./best_mod.b1')\n",
        "\n",
        "pred = model.predict(test_data)\n",
        "  "
      ],
      "metadata": {
        "id": "W2aTh6q5cOBM",
        "colab": {
          "base_uri": "https://localhost:8080/"
        },
        "outputId": "eabfeab0-7423-4954-c959-f0adf2bce110"
      },
      "execution_count": 32,
      "outputs": [
        {
          "output_type": "stream",
          "name": "stdout",
          "text": [
            "1796/1796 [==============================] - 61s 34ms/step\n"
          ]
        }
      ]
    },
    {
      "cell_type": "code",
      "source": [
        "df = pd.DataFrame(pred.round(), os.listdir('./test'), columns = ['Prediction']).reset_index()"
      ],
      "metadata": {
        "id": "oo4sFRyceqfh"
      },
      "execution_count": 33,
      "outputs": []
    },
    {
      "cell_type": "markdown",
      "source": [
        "## Discussion\n",
        "\n",
        "In the end, I scored 50% accuracy on my first submission on Kaggle. That was not nearly as good as my validation scores of 70%-75%. In retrospect, I maybe should have done more preprocessing on the training data (zoom, flip, etc). Maybe if I did not pull some test data out for validation I may have built a better model. \n",
        "\n",
        "There is also the change that I overprocessed my validation data. If I did this my model would have worked much better on real-world data."
      ],
      "metadata": {
        "id": "0jt05cq3Tww5"
      }
    }
  ]
}