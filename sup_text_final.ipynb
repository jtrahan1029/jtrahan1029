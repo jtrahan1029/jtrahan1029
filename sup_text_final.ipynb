{
  "nbformat": 4,
  "nbformat_minor": 0,
  "metadata": {
    "colab": {
      "provenance": [],
      "machine_shape": "hm",
      "gpuType": "V100",
      "authorship_tag": "ABX9TyNX5If9SykIEo86JF7285U1",
      "include_colab_link": true
    },
    "kernelspec": {
      "name": "python3",
      "display_name": "Python 3"
    },
    "language_info": {
      "name": "python"
    },
    "accelerator": "GPU"
  },
  "cells": [
    {
      "cell_type": "markdown",
      "metadata": {
        "id": "view-in-github",
        "colab_type": "text"
      },
      "source": [
        "<a href=\"https://colab.research.google.com/github/jtrahan1029/jtrahan1029/blob/main/sup_text_final.ipynb\" target=\"_parent\"><img src=\"https://colab.research.google.com/assets/colab-badge.svg\" alt=\"Open In Colab\"/></a>"
      ]
    },
    {
      "cell_type": "markdown",
      "source": [
        "## Final Project for Supervised Text Analytics\n",
        "\n",
        "In this project I demonstrated that my model can perform at 94% precision. This means that the model has highly efficient at identifying positive cases! While this was my primary metric, it is worth noting that my best model has a recall of 98%"
      ],
      "metadata": {
        "id": "9HdBTEzKnICQ"
      }
    },
    {
      "cell_type": "markdown",
      "source": [
        "### Importing my packages and modules"
      ],
      "metadata": {
        "id": "jr9f8nzkn3ZE"
      }
    },
    {
      "cell_type": "code",
      "execution_count": 1,
      "metadata": {
        "colab": {
          "base_uri": "https://localhost:8080/"
        },
        "id": "axgdcvdw7j8a",
        "outputId": "76783fc3-8f51-4789-f22d-8b3291e81792"
      },
      "outputs": [
        {
          "output_type": "stream",
          "name": "stdout",
          "text": [
            "2.15.0\n"
          ]
        }
      ],
      "source": [
        "import os\n",
        "import tensorflow as tf\n",
        "print(tf.__version__)\n",
        "try:\n",
        "  import ktrain\n",
        "except:\n",
        "  !pip install ktrain\n",
        "  os.kill(os.getpid(), 9)\n",
        "from ktrain.text import texts_from_df\n",
        "import pandas as pd\n",
        "import json\n",
        "import numpy as np"
      ]
    },
    {
      "cell_type": "markdown",
      "source": [
        "Mounting Google Drive"
      ],
      "metadata": {
        "id": "tjIYRkOln9Ng"
      }
    },
    {
      "cell_type": "code",
      "source": [
        "from google.colab import drive\n",
        "drive.mount('/content/drive')"
      ],
      "metadata": {
        "colab": {
          "base_uri": "https://localhost:8080/"
        },
        "id": "C5-rAX6T_u_s",
        "outputId": "cab1361a-6b44-43c2-c411-f1bc162b0685"
      },
      "execution_count": 2,
      "outputs": [
        {
          "output_type": "stream",
          "name": "stdout",
          "text": [
            "Mounted at /content/drive\n"
          ]
        }
      ]
    },
    {
      "cell_type": "markdown",
      "source": [
        "### Here I used some of the code that I wrote in week one to load the data from a drive file"
      ],
      "metadata": {
        "id": "R8G_3kuSoAO4"
      }
    },
    {
      "cell_type": "code",
      "source": [
        "data = []\n",
        "with open('/content/drive/MyDrive/Colab Notebooks/files/news_category_trainingdata.json', 'r') as f:\n",
        "    for line in f:\n",
        "        data.append(json.loads(line))"
      ],
      "metadata": {
        "id": "YGlYbPHQA7Wv"
      },
      "execution_count": 3,
      "outputs": []
    },
    {
      "cell_type": "markdown",
      "source": [
        "### I made two predictor columns\n",
        "One column concatenated the the headline only and the other included the link. My final results were acheived by using the combined_link predictor."
      ],
      "metadata": {
        "id": "xVixQE6uoIh8"
      }
    },
    {
      "cell_type": "code",
      "source": [
        "df = pd.DataFrame(data[0])\n",
        "df['combined'] = df['headline'] + ' ' + df['short_description']\n",
        "df['combined_link'] = df['headline'] + ' ' + df['short_description'] + ' ' + df['link']"
      ],
      "metadata": {
        "id": "f-oi1J22BWTJ"
      },
      "execution_count": 4,
      "outputs": []
    },
    {
      "cell_type": "code",
      "source": [
        "df.head()"
      ],
      "metadata": {
        "colab": {
          "base_uri": "https://localhost:8080/",
          "height": 729
        },
        "id": "wnoh6Zl6BYvv",
        "outputId": "ce886563-696a-4e80-f958-f840d64ac296"
      },
      "execution_count": 5,
      "outputs": [
        {
          "output_type": "execute_result",
          "data": {
            "text/plain": [
              "        category                                           headline  \\\n",
              "0          CRIME  There Were 2 Mass Shootings In Texas Last Week...   \n",
              "1  ENTERTAINMENT  Will Smith Joins Diplo And Nicky Jam For The 2...   \n",
              "2  ENTERTAINMENT    Hugh Grant Marries For The First Time At Age 57   \n",
              "3  ENTERTAINMENT  Jim Carrey Blasts 'Castrato' Adam Schiff And D...   \n",
              "4  ENTERTAINMENT  Julianna Margulies Uses Donald Trump Poop Bags...   \n",
              "\n",
              "           authors                                               link  \\\n",
              "0  Melissa Jeltsen  https://www.huffingtonpost.com/entry/texas-ama...   \n",
              "1    Andy McDonald  https://www.huffingtonpost.com/entry/will-smit...   \n",
              "2       Ron Dicker  https://www.huffingtonpost.com/entry/hugh-gran...   \n",
              "3       Ron Dicker  https://www.huffingtonpost.com/entry/jim-carre...   \n",
              "4       Ron Dicker  https://www.huffingtonpost.com/entry/julianna-...   \n",
              "\n",
              "                                   short_description        date  \\\n",
              "0  She left her husband. He killed their children...  2018-05-26   \n",
              "1                           Of course it has a song.  2018-05-26   \n",
              "2  The actor and his longtime girlfriend Anna Ebe...  2018-05-26   \n",
              "3  The actor gives Dems an ass-kicking for not fi...  2018-05-26   \n",
              "4  The \"Dietland\" actress said using the bags is ...  2018-05-26   \n",
              "\n",
              "                                            combined  \\\n",
              "0  There Were 2 Mass Shootings In Texas Last Week...   \n",
              "1  Will Smith Joins Diplo And Nicky Jam For The 2...   \n",
              "2  Hugh Grant Marries For The First Time At Age 5...   \n",
              "3  Jim Carrey Blasts 'Castrato' Adam Schiff And D...   \n",
              "4  Julianna Margulies Uses Donald Trump Poop Bags...   \n",
              "\n",
              "                                       combined_link  \n",
              "0  There Were 2 Mass Shootings In Texas Last Week...  \n",
              "1  Will Smith Joins Diplo And Nicky Jam For The 2...  \n",
              "2  Hugh Grant Marries For The First Time At Age 5...  \n",
              "3  Jim Carrey Blasts 'Castrato' Adam Schiff And D...  \n",
              "4  Julianna Margulies Uses Donald Trump Poop Bags...  "
            ],
            "text/html": [
              "\n",
              "  <div id=\"df-3d0a21f1-df42-40d4-b5db-fad9395d0fde\" class=\"colab-df-container\">\n",
              "    <div>\n",
              "<style scoped>\n",
              "    .dataframe tbody tr th:only-of-type {\n",
              "        vertical-align: middle;\n",
              "    }\n",
              "\n",
              "    .dataframe tbody tr th {\n",
              "        vertical-align: top;\n",
              "    }\n",
              "\n",
              "    .dataframe thead th {\n",
              "        text-align: right;\n",
              "    }\n",
              "</style>\n",
              "<table border=\"1\" class=\"dataframe\">\n",
              "  <thead>\n",
              "    <tr style=\"text-align: right;\">\n",
              "      <th></th>\n",
              "      <th>category</th>\n",
              "      <th>headline</th>\n",
              "      <th>authors</th>\n",
              "      <th>link</th>\n",
              "      <th>short_description</th>\n",
              "      <th>date</th>\n",
              "      <th>combined</th>\n",
              "      <th>combined_link</th>\n",
              "    </tr>\n",
              "  </thead>\n",
              "  <tbody>\n",
              "    <tr>\n",
              "      <th>0</th>\n",
              "      <td>CRIME</td>\n",
              "      <td>There Were 2 Mass Shootings In Texas Last Week...</td>\n",
              "      <td>Melissa Jeltsen</td>\n",
              "      <td>https://www.huffingtonpost.com/entry/texas-ama...</td>\n",
              "      <td>She left her husband. He killed their children...</td>\n",
              "      <td>2018-05-26</td>\n",
              "      <td>There Were 2 Mass Shootings In Texas Last Week...</td>\n",
              "      <td>There Were 2 Mass Shootings In Texas Last Week...</td>\n",
              "    </tr>\n",
              "    <tr>\n",
              "      <th>1</th>\n",
              "      <td>ENTERTAINMENT</td>\n",
              "      <td>Will Smith Joins Diplo And Nicky Jam For The 2...</td>\n",
              "      <td>Andy McDonald</td>\n",
              "      <td>https://www.huffingtonpost.com/entry/will-smit...</td>\n",
              "      <td>Of course it has a song.</td>\n",
              "      <td>2018-05-26</td>\n",
              "      <td>Will Smith Joins Diplo And Nicky Jam For The 2...</td>\n",
              "      <td>Will Smith Joins Diplo And Nicky Jam For The 2...</td>\n",
              "    </tr>\n",
              "    <tr>\n",
              "      <th>2</th>\n",
              "      <td>ENTERTAINMENT</td>\n",
              "      <td>Hugh Grant Marries For The First Time At Age 57</td>\n",
              "      <td>Ron Dicker</td>\n",
              "      <td>https://www.huffingtonpost.com/entry/hugh-gran...</td>\n",
              "      <td>The actor and his longtime girlfriend Anna Ebe...</td>\n",
              "      <td>2018-05-26</td>\n",
              "      <td>Hugh Grant Marries For The First Time At Age 5...</td>\n",
              "      <td>Hugh Grant Marries For The First Time At Age 5...</td>\n",
              "    </tr>\n",
              "    <tr>\n",
              "      <th>3</th>\n",
              "      <td>ENTERTAINMENT</td>\n",
              "      <td>Jim Carrey Blasts 'Castrato' Adam Schiff And D...</td>\n",
              "      <td>Ron Dicker</td>\n",
              "      <td>https://www.huffingtonpost.com/entry/jim-carre...</td>\n",
              "      <td>The actor gives Dems an ass-kicking for not fi...</td>\n",
              "      <td>2018-05-26</td>\n",
              "      <td>Jim Carrey Blasts 'Castrato' Adam Schiff And D...</td>\n",
              "      <td>Jim Carrey Blasts 'Castrato' Adam Schiff And D...</td>\n",
              "    </tr>\n",
              "    <tr>\n",
              "      <th>4</th>\n",
              "      <td>ENTERTAINMENT</td>\n",
              "      <td>Julianna Margulies Uses Donald Trump Poop Bags...</td>\n",
              "      <td>Ron Dicker</td>\n",
              "      <td>https://www.huffingtonpost.com/entry/julianna-...</td>\n",
              "      <td>The \"Dietland\" actress said using the bags is ...</td>\n",
              "      <td>2018-05-26</td>\n",
              "      <td>Julianna Margulies Uses Donald Trump Poop Bags...</td>\n",
              "      <td>Julianna Margulies Uses Donald Trump Poop Bags...</td>\n",
              "    </tr>\n",
              "  </tbody>\n",
              "</table>\n",
              "</div>\n",
              "    <div class=\"colab-df-buttons\">\n",
              "\n",
              "  <div class=\"colab-df-container\">\n",
              "    <button class=\"colab-df-convert\" onclick=\"convertToInteractive('df-3d0a21f1-df42-40d4-b5db-fad9395d0fde')\"\n",
              "            title=\"Convert this dataframe to an interactive table.\"\n",
              "            style=\"display:none;\">\n",
              "\n",
              "  <svg xmlns=\"http://www.w3.org/2000/svg\" height=\"24px\" viewBox=\"0 -960 960 960\">\n",
              "    <path d=\"M120-120v-720h720v720H120Zm60-500h600v-160H180v160Zm220 220h160v-160H400v160Zm0 220h160v-160H400v160ZM180-400h160v-160H180v160Zm440 0h160v-160H620v160ZM180-180h160v-160H180v160Zm440 0h160v-160H620v160Z\"/>\n",
              "  </svg>\n",
              "    </button>\n",
              "\n",
              "  <style>\n",
              "    .colab-df-container {\n",
              "      display:flex;\n",
              "      gap: 12px;\n",
              "    }\n",
              "\n",
              "    .colab-df-convert {\n",
              "      background-color: #E8F0FE;\n",
              "      border: none;\n",
              "      border-radius: 50%;\n",
              "      cursor: pointer;\n",
              "      display: none;\n",
              "      fill: #1967D2;\n",
              "      height: 32px;\n",
              "      padding: 0 0 0 0;\n",
              "      width: 32px;\n",
              "    }\n",
              "\n",
              "    .colab-df-convert:hover {\n",
              "      background-color: #E2EBFA;\n",
              "      box-shadow: 0px 1px 2px rgba(60, 64, 67, 0.3), 0px 1px 3px 1px rgba(60, 64, 67, 0.15);\n",
              "      fill: #174EA6;\n",
              "    }\n",
              "\n",
              "    .colab-df-buttons div {\n",
              "      margin-bottom: 4px;\n",
              "    }\n",
              "\n",
              "    [theme=dark] .colab-df-convert {\n",
              "      background-color: #3B4455;\n",
              "      fill: #D2E3FC;\n",
              "    }\n",
              "\n",
              "    [theme=dark] .colab-df-convert:hover {\n",
              "      background-color: #434B5C;\n",
              "      box-shadow: 0px 1px 3px 1px rgba(0, 0, 0, 0.15);\n",
              "      filter: drop-shadow(0px 1px 2px rgba(0, 0, 0, 0.3));\n",
              "      fill: #FFFFFF;\n",
              "    }\n",
              "  </style>\n",
              "\n",
              "    <script>\n",
              "      const buttonEl =\n",
              "        document.querySelector('#df-3d0a21f1-df42-40d4-b5db-fad9395d0fde button.colab-df-convert');\n",
              "      buttonEl.style.display =\n",
              "        google.colab.kernel.accessAllowed ? 'block' : 'none';\n",
              "\n",
              "      async function convertToInteractive(key) {\n",
              "        const element = document.querySelector('#df-3d0a21f1-df42-40d4-b5db-fad9395d0fde');\n",
              "        const dataTable =\n",
              "          await google.colab.kernel.invokeFunction('convertToInteractive',\n",
              "                                                    [key], {});\n",
              "        if (!dataTable) return;\n",
              "\n",
              "        const docLinkHtml = 'Like what you see? Visit the ' +\n",
              "          '<a target=\"_blank\" href=https://colab.research.google.com/notebooks/data_table.ipynb>data table notebook</a>'\n",
              "          + ' to learn more about interactive tables.';\n",
              "        element.innerHTML = '';\n",
              "        dataTable['output_type'] = 'display_data';\n",
              "        await google.colab.output.renderOutput(dataTable, element);\n",
              "        const docLink = document.createElement('div');\n",
              "        docLink.innerHTML = docLinkHtml;\n",
              "        element.appendChild(docLink);\n",
              "      }\n",
              "    </script>\n",
              "  </div>\n",
              "\n",
              "\n",
              "<div id=\"df-987ffb56-7871-45e4-ac37-35dfe6cf7574\">\n",
              "  <button class=\"colab-df-quickchart\" onclick=\"quickchart('df-987ffb56-7871-45e4-ac37-35dfe6cf7574')\"\n",
              "            title=\"Suggest charts\"\n",
              "            style=\"display:none;\">\n",
              "\n",
              "<svg xmlns=\"http://www.w3.org/2000/svg\" height=\"24px\"viewBox=\"0 0 24 24\"\n",
              "     width=\"24px\">\n",
              "    <g>\n",
              "        <path d=\"M19 3H5c-1.1 0-2 .9-2 2v14c0 1.1.9 2 2 2h14c1.1 0 2-.9 2-2V5c0-1.1-.9-2-2-2zM9 17H7v-7h2v7zm4 0h-2V7h2v10zm4 0h-2v-4h2v4z\"/>\n",
              "    </g>\n",
              "</svg>\n",
              "  </button>\n",
              "\n",
              "<style>\n",
              "  .colab-df-quickchart {\n",
              "      --bg-color: #E8F0FE;\n",
              "      --fill-color: #1967D2;\n",
              "      --hover-bg-color: #E2EBFA;\n",
              "      --hover-fill-color: #174EA6;\n",
              "      --disabled-fill-color: #AAA;\n",
              "      --disabled-bg-color: #DDD;\n",
              "  }\n",
              "\n",
              "  [theme=dark] .colab-df-quickchart {\n",
              "      --bg-color: #3B4455;\n",
              "      --fill-color: #D2E3FC;\n",
              "      --hover-bg-color: #434B5C;\n",
              "      --hover-fill-color: #FFFFFF;\n",
              "      --disabled-bg-color: #3B4455;\n",
              "      --disabled-fill-color: #666;\n",
              "  }\n",
              "\n",
              "  .colab-df-quickchart {\n",
              "    background-color: var(--bg-color);\n",
              "    border: none;\n",
              "    border-radius: 50%;\n",
              "    cursor: pointer;\n",
              "    display: none;\n",
              "    fill: var(--fill-color);\n",
              "    height: 32px;\n",
              "    padding: 0;\n",
              "    width: 32px;\n",
              "  }\n",
              "\n",
              "  .colab-df-quickchart:hover {\n",
              "    background-color: var(--hover-bg-color);\n",
              "    box-shadow: 0 1px 2px rgba(60, 64, 67, 0.3), 0 1px 3px 1px rgba(60, 64, 67, 0.15);\n",
              "    fill: var(--button-hover-fill-color);\n",
              "  }\n",
              "\n",
              "  .colab-df-quickchart-complete:disabled,\n",
              "  .colab-df-quickchart-complete:disabled:hover {\n",
              "    background-color: var(--disabled-bg-color);\n",
              "    fill: var(--disabled-fill-color);\n",
              "    box-shadow: none;\n",
              "  }\n",
              "\n",
              "  .colab-df-spinner {\n",
              "    border: 2px solid var(--fill-color);\n",
              "    border-color: transparent;\n",
              "    border-bottom-color: var(--fill-color);\n",
              "    animation:\n",
              "      spin 1s steps(1) infinite;\n",
              "  }\n",
              "\n",
              "  @keyframes spin {\n",
              "    0% {\n",
              "      border-color: transparent;\n",
              "      border-bottom-color: var(--fill-color);\n",
              "      border-left-color: var(--fill-color);\n",
              "    }\n",
              "    20% {\n",
              "      border-color: transparent;\n",
              "      border-left-color: var(--fill-color);\n",
              "      border-top-color: var(--fill-color);\n",
              "    }\n",
              "    30% {\n",
              "      border-color: transparent;\n",
              "      border-left-color: var(--fill-color);\n",
              "      border-top-color: var(--fill-color);\n",
              "      border-right-color: var(--fill-color);\n",
              "    }\n",
              "    40% {\n",
              "      border-color: transparent;\n",
              "      border-right-color: var(--fill-color);\n",
              "      border-top-color: var(--fill-color);\n",
              "    }\n",
              "    60% {\n",
              "      border-color: transparent;\n",
              "      border-right-color: var(--fill-color);\n",
              "    }\n",
              "    80% {\n",
              "      border-color: transparent;\n",
              "      border-right-color: var(--fill-color);\n",
              "      border-bottom-color: var(--fill-color);\n",
              "    }\n",
              "    90% {\n",
              "      border-color: transparent;\n",
              "      border-bottom-color: var(--fill-color);\n",
              "    }\n",
              "  }\n",
              "</style>\n",
              "\n",
              "  <script>\n",
              "    async function quickchart(key) {\n",
              "      const quickchartButtonEl =\n",
              "        document.querySelector('#' + key + ' button');\n",
              "      quickchartButtonEl.disabled = true;  // To prevent multiple clicks.\n",
              "      quickchartButtonEl.classList.add('colab-df-spinner');\n",
              "      try {\n",
              "        const charts = await google.colab.kernel.invokeFunction(\n",
              "            'suggestCharts', [key], {});\n",
              "      } catch (error) {\n",
              "        console.error('Error during call to suggestCharts:', error);\n",
              "      }\n",
              "      quickchartButtonEl.classList.remove('colab-df-spinner');\n",
              "      quickchartButtonEl.classList.add('colab-df-quickchart-complete');\n",
              "    }\n",
              "    (() => {\n",
              "      let quickchartButtonEl =\n",
              "        document.querySelector('#df-987ffb56-7871-45e4-ac37-35dfe6cf7574 button');\n",
              "      quickchartButtonEl.style.display =\n",
              "        google.colab.kernel.accessAllowed ? 'block' : 'none';\n",
              "    })();\n",
              "  </script>\n",
              "</div>\n",
              "\n",
              "    </div>\n",
              "  </div>\n"
            ],
            "application/vnd.google.colaboratory.intrinsic+json": {
              "type": "dataframe",
              "variable_name": "df"
            }
          },
          "metadata": {},
          "execution_count": 5
        }
      ]
    },
    {
      "cell_type": "markdown",
      "source": [
        "### Code used from course materials. I liked the simplicity and efficiency of this approach"
      ],
      "metadata": {
        "id": "MnuD0kwpoi5w"
      }
    },
    {
      "cell_type": "code",
      "source": [
        "df['HL'] = np.where((df['category'] == 'HEALTHY LIVING'), 1,0)"
      ],
      "metadata": {
        "id": "FMIOI_YsB2-N"
      },
      "execution_count": 31,
      "outputs": []
    },
    {
      "cell_type": "code",
      "source": [
        "df[df['HL'] == 1].head()"
      ],
      "metadata": {
        "colab": {
          "base_uri": "https://localhost:8080/",
          "height": 695
        },
        "id": "8WoT8fSOB7zd",
        "outputId": "926c37ba-7e6e-4fb4-82ca-3f2fc31d956a"
      },
      "execution_count": 33,
      "outputs": [
        {
          "output_type": "execute_result",
          "data": {
            "text/plain": [
              "            category                                           headline  \\\n",
              "7578  HEALTHY LIVING  To The People Who Say ‘I’m Tired’ When Someone...   \n",
              "7693  HEALTHY LIVING  Eating Shake Shack Made Me Feel Healthier Than...   \n",
              "7747  HEALTHY LIVING  How To Stay Updated On The News Without Losing...   \n",
              "7927  HEALTHY LIVING  27 Perfect Tweets About Whole30 That Will Make...   \n",
              "7934  HEALTHY LIVING         The Real Reason Your Hands Are Always Cold   \n",
              "\n",
              "                                                authors  \\\n",
              "7578  The Mighty, ContributorWe face disability, dis...   \n",
              "7693  Colleen Werner, ContributorCampus Editor-at-Large   \n",
              "7747                                     Lindsay Holmes   \n",
              "7927                                     Lindsay Holmes   \n",
              "7934  Refinery29, ContributorThe #1 new-media brand ...   \n",
              "\n",
              "                                                   link  \\\n",
              "7578  https://www.huffingtonpost.com/entry/to-the-pe...   \n",
              "7693  https://www.huffingtonpost.com/entry/eating-sh...   \n",
              "7747  https://www.huffingtonpost.com/entry/anxiety-f...   \n",
              "7927  https://www.huffingtonpost.com/entry/tweets-ab...   \n",
              "7934  https://www.huffingtonpost.com/entry/the-real-...   \n",
              "\n",
              "                                      short_description        date  \\\n",
              "7578  When you feel like this, it’s important to kno...  2018-01-16   \n",
              "7693  I can vividly remember the first time I felt f...  2018-01-12   \n",
              "7747     Because it's only becoming more of a struggle.  2018-01-12   \n",
              "7927  \"The only Whole30 I want to participate in is ...  2018-01-10   \n",
              "7934  Essentially, your hands are kept warm thanks t...  2018-01-10   \n",
              "\n",
              "                                               combined  \\\n",
              "7578  To The People Who Say ‘I’m Tired’ When Someone...   \n",
              "7693  Eating Shake Shack Made Me Feel Healthier Than...   \n",
              "7747  How To Stay Updated On The News Without Losing...   \n",
              "7927  27 Perfect Tweets About Whole30 That Will Make...   \n",
              "7934  The Real Reason Your Hands Are Always Cold Ess...   \n",
              "\n",
              "                                          combined_link  label  HL  \n",
              "7578  To The People Who Say ‘I’m Tired’ When Someone...      1   1  \n",
              "7693  Eating Shake Shack Made Me Feel Healthier Than...      1   1  \n",
              "7747  How To Stay Updated On The News Without Losing...      1   1  \n",
              "7927  27 Perfect Tweets About Whole30 That Will Make...      1   1  \n",
              "7934  The Real Reason Your Hands Are Always Cold Ess...      1   1  "
            ],
            "text/html": [
              "\n",
              "  <div id=\"df-200a6d6e-dc1e-4036-96f8-52b340d74ca2\" class=\"colab-df-container\">\n",
              "    <div>\n",
              "<style scoped>\n",
              "    .dataframe tbody tr th:only-of-type {\n",
              "        vertical-align: middle;\n",
              "    }\n",
              "\n",
              "    .dataframe tbody tr th {\n",
              "        vertical-align: top;\n",
              "    }\n",
              "\n",
              "    .dataframe thead th {\n",
              "        text-align: right;\n",
              "    }\n",
              "</style>\n",
              "<table border=\"1\" class=\"dataframe\">\n",
              "  <thead>\n",
              "    <tr style=\"text-align: right;\">\n",
              "      <th></th>\n",
              "      <th>category</th>\n",
              "      <th>headline</th>\n",
              "      <th>authors</th>\n",
              "      <th>link</th>\n",
              "      <th>short_description</th>\n",
              "      <th>date</th>\n",
              "      <th>combined</th>\n",
              "      <th>combined_link</th>\n",
              "      <th>label</th>\n",
              "      <th>HL</th>\n",
              "    </tr>\n",
              "  </thead>\n",
              "  <tbody>\n",
              "    <tr>\n",
              "      <th>7578</th>\n",
              "      <td>HEALTHY LIVING</td>\n",
              "      <td>To The People Who Say ‘I’m Tired’ When Someone...</td>\n",
              "      <td>The Mighty, ContributorWe face disability, dis...</td>\n",
              "      <td>https://www.huffingtonpost.com/entry/to-the-pe...</td>\n",
              "      <td>When you feel like this, it’s important to kno...</td>\n",
              "      <td>2018-01-16</td>\n",
              "      <td>To The People Who Say ‘I’m Tired’ When Someone...</td>\n",
              "      <td>To The People Who Say ‘I’m Tired’ When Someone...</td>\n",
              "      <td>1</td>\n",
              "      <td>1</td>\n",
              "    </tr>\n",
              "    <tr>\n",
              "      <th>7693</th>\n",
              "      <td>HEALTHY LIVING</td>\n",
              "      <td>Eating Shake Shack Made Me Feel Healthier Than...</td>\n",
              "      <td>Colleen Werner, ContributorCampus Editor-at-Large</td>\n",
              "      <td>https://www.huffingtonpost.com/entry/eating-sh...</td>\n",
              "      <td>I can vividly remember the first time I felt f...</td>\n",
              "      <td>2018-01-12</td>\n",
              "      <td>Eating Shake Shack Made Me Feel Healthier Than...</td>\n",
              "      <td>Eating Shake Shack Made Me Feel Healthier Than...</td>\n",
              "      <td>1</td>\n",
              "      <td>1</td>\n",
              "    </tr>\n",
              "    <tr>\n",
              "      <th>7747</th>\n",
              "      <td>HEALTHY LIVING</td>\n",
              "      <td>How To Stay Updated On The News Without Losing...</td>\n",
              "      <td>Lindsay Holmes</td>\n",
              "      <td>https://www.huffingtonpost.com/entry/anxiety-f...</td>\n",
              "      <td>Because it's only becoming more of a struggle.</td>\n",
              "      <td>2018-01-12</td>\n",
              "      <td>How To Stay Updated On The News Without Losing...</td>\n",
              "      <td>How To Stay Updated On The News Without Losing...</td>\n",
              "      <td>1</td>\n",
              "      <td>1</td>\n",
              "    </tr>\n",
              "    <tr>\n",
              "      <th>7927</th>\n",
              "      <td>HEALTHY LIVING</td>\n",
              "      <td>27 Perfect Tweets About Whole30 That Will Make...</td>\n",
              "      <td>Lindsay Holmes</td>\n",
              "      <td>https://www.huffingtonpost.com/entry/tweets-ab...</td>\n",
              "      <td>\"The only Whole30 I want to participate in is ...</td>\n",
              "      <td>2018-01-10</td>\n",
              "      <td>27 Perfect Tweets About Whole30 That Will Make...</td>\n",
              "      <td>27 Perfect Tweets About Whole30 That Will Make...</td>\n",
              "      <td>1</td>\n",
              "      <td>1</td>\n",
              "    </tr>\n",
              "    <tr>\n",
              "      <th>7934</th>\n",
              "      <td>HEALTHY LIVING</td>\n",
              "      <td>The Real Reason Your Hands Are Always Cold</td>\n",
              "      <td>Refinery29, ContributorThe #1 new-media brand ...</td>\n",
              "      <td>https://www.huffingtonpost.com/entry/the-real-...</td>\n",
              "      <td>Essentially, your hands are kept warm thanks t...</td>\n",
              "      <td>2018-01-10</td>\n",
              "      <td>The Real Reason Your Hands Are Always Cold Ess...</td>\n",
              "      <td>The Real Reason Your Hands Are Always Cold Ess...</td>\n",
              "      <td>1</td>\n",
              "      <td>1</td>\n",
              "    </tr>\n",
              "  </tbody>\n",
              "</table>\n",
              "</div>\n",
              "    <div class=\"colab-df-buttons\">\n",
              "\n",
              "  <div class=\"colab-df-container\">\n",
              "    <button class=\"colab-df-convert\" onclick=\"convertToInteractive('df-200a6d6e-dc1e-4036-96f8-52b340d74ca2')\"\n",
              "            title=\"Convert this dataframe to an interactive table.\"\n",
              "            style=\"display:none;\">\n",
              "\n",
              "  <svg xmlns=\"http://www.w3.org/2000/svg\" height=\"24px\" viewBox=\"0 -960 960 960\">\n",
              "    <path d=\"M120-120v-720h720v720H120Zm60-500h600v-160H180v160Zm220 220h160v-160H400v160Zm0 220h160v-160H400v160ZM180-400h160v-160H180v160Zm440 0h160v-160H620v160ZM180-180h160v-160H180v160Zm440 0h160v-160H620v160Z\"/>\n",
              "  </svg>\n",
              "    </button>\n",
              "\n",
              "  <style>\n",
              "    .colab-df-container {\n",
              "      display:flex;\n",
              "      gap: 12px;\n",
              "    }\n",
              "\n",
              "    .colab-df-convert {\n",
              "      background-color: #E8F0FE;\n",
              "      border: none;\n",
              "      border-radius: 50%;\n",
              "      cursor: pointer;\n",
              "      display: none;\n",
              "      fill: #1967D2;\n",
              "      height: 32px;\n",
              "      padding: 0 0 0 0;\n",
              "      width: 32px;\n",
              "    }\n",
              "\n",
              "    .colab-df-convert:hover {\n",
              "      background-color: #E2EBFA;\n",
              "      box-shadow: 0px 1px 2px rgba(60, 64, 67, 0.3), 0px 1px 3px 1px rgba(60, 64, 67, 0.15);\n",
              "      fill: #174EA6;\n",
              "    }\n",
              "\n",
              "    .colab-df-buttons div {\n",
              "      margin-bottom: 4px;\n",
              "    }\n",
              "\n",
              "    [theme=dark] .colab-df-convert {\n",
              "      background-color: #3B4455;\n",
              "      fill: #D2E3FC;\n",
              "    }\n",
              "\n",
              "    [theme=dark] .colab-df-convert:hover {\n",
              "      background-color: #434B5C;\n",
              "      box-shadow: 0px 1px 3px 1px rgba(0, 0, 0, 0.15);\n",
              "      filter: drop-shadow(0px 1px 2px rgba(0, 0, 0, 0.3));\n",
              "      fill: #FFFFFF;\n",
              "    }\n",
              "  </style>\n",
              "\n",
              "    <script>\n",
              "      const buttonEl =\n",
              "        document.querySelector('#df-200a6d6e-dc1e-4036-96f8-52b340d74ca2 button.colab-df-convert');\n",
              "      buttonEl.style.display =\n",
              "        google.colab.kernel.accessAllowed ? 'block' : 'none';\n",
              "\n",
              "      async function convertToInteractive(key) {\n",
              "        const element = document.querySelector('#df-200a6d6e-dc1e-4036-96f8-52b340d74ca2');\n",
              "        const dataTable =\n",
              "          await google.colab.kernel.invokeFunction('convertToInteractive',\n",
              "                                                    [key], {});\n",
              "        if (!dataTable) return;\n",
              "\n",
              "        const docLinkHtml = 'Like what you see? Visit the ' +\n",
              "          '<a target=\"_blank\" href=https://colab.research.google.com/notebooks/data_table.ipynb>data table notebook</a>'\n",
              "          + ' to learn more about interactive tables.';\n",
              "        element.innerHTML = '';\n",
              "        dataTable['output_type'] = 'display_data';\n",
              "        await google.colab.output.renderOutput(dataTable, element);\n",
              "        const docLink = document.createElement('div');\n",
              "        docLink.innerHTML = docLinkHtml;\n",
              "        element.appendChild(docLink);\n",
              "      }\n",
              "    </script>\n",
              "  </div>\n",
              "\n",
              "\n",
              "<div id=\"df-420662c2-d6cd-4624-8cbe-70c5df4d562f\">\n",
              "  <button class=\"colab-df-quickchart\" onclick=\"quickchart('df-420662c2-d6cd-4624-8cbe-70c5df4d562f')\"\n",
              "            title=\"Suggest charts\"\n",
              "            style=\"display:none;\">\n",
              "\n",
              "<svg xmlns=\"http://www.w3.org/2000/svg\" height=\"24px\"viewBox=\"0 0 24 24\"\n",
              "     width=\"24px\">\n",
              "    <g>\n",
              "        <path d=\"M19 3H5c-1.1 0-2 .9-2 2v14c0 1.1.9 2 2 2h14c1.1 0 2-.9 2-2V5c0-1.1-.9-2-2-2zM9 17H7v-7h2v7zm4 0h-2V7h2v10zm4 0h-2v-4h2v4z\"/>\n",
              "    </g>\n",
              "</svg>\n",
              "  </button>\n",
              "\n",
              "<style>\n",
              "  .colab-df-quickchart {\n",
              "      --bg-color: #E8F0FE;\n",
              "      --fill-color: #1967D2;\n",
              "      --hover-bg-color: #E2EBFA;\n",
              "      --hover-fill-color: #174EA6;\n",
              "      --disabled-fill-color: #AAA;\n",
              "      --disabled-bg-color: #DDD;\n",
              "  }\n",
              "\n",
              "  [theme=dark] .colab-df-quickchart {\n",
              "      --bg-color: #3B4455;\n",
              "      --fill-color: #D2E3FC;\n",
              "      --hover-bg-color: #434B5C;\n",
              "      --hover-fill-color: #FFFFFF;\n",
              "      --disabled-bg-color: #3B4455;\n",
              "      --disabled-fill-color: #666;\n",
              "  }\n",
              "\n",
              "  .colab-df-quickchart {\n",
              "    background-color: var(--bg-color);\n",
              "    border: none;\n",
              "    border-radius: 50%;\n",
              "    cursor: pointer;\n",
              "    display: none;\n",
              "    fill: var(--fill-color);\n",
              "    height: 32px;\n",
              "    padding: 0;\n",
              "    width: 32px;\n",
              "  }\n",
              "\n",
              "  .colab-df-quickchart:hover {\n",
              "    background-color: var(--hover-bg-color);\n",
              "    box-shadow: 0 1px 2px rgba(60, 64, 67, 0.3), 0 1px 3px 1px rgba(60, 64, 67, 0.15);\n",
              "    fill: var(--button-hover-fill-color);\n",
              "  }\n",
              "\n",
              "  .colab-df-quickchart-complete:disabled,\n",
              "  .colab-df-quickchart-complete:disabled:hover {\n",
              "    background-color: var(--disabled-bg-color);\n",
              "    fill: var(--disabled-fill-color);\n",
              "    box-shadow: none;\n",
              "  }\n",
              "\n",
              "  .colab-df-spinner {\n",
              "    border: 2px solid var(--fill-color);\n",
              "    border-color: transparent;\n",
              "    border-bottom-color: var(--fill-color);\n",
              "    animation:\n",
              "      spin 1s steps(1) infinite;\n",
              "  }\n",
              "\n",
              "  @keyframes spin {\n",
              "    0% {\n",
              "      border-color: transparent;\n",
              "      border-bottom-color: var(--fill-color);\n",
              "      border-left-color: var(--fill-color);\n",
              "    }\n",
              "    20% {\n",
              "      border-color: transparent;\n",
              "      border-left-color: var(--fill-color);\n",
              "      border-top-color: var(--fill-color);\n",
              "    }\n",
              "    30% {\n",
              "      border-color: transparent;\n",
              "      border-left-color: var(--fill-color);\n",
              "      border-top-color: var(--fill-color);\n",
              "      border-right-color: var(--fill-color);\n",
              "    }\n",
              "    40% {\n",
              "      border-color: transparent;\n",
              "      border-right-color: var(--fill-color);\n",
              "      border-top-color: var(--fill-color);\n",
              "    }\n",
              "    60% {\n",
              "      border-color: transparent;\n",
              "      border-right-color: var(--fill-color);\n",
              "    }\n",
              "    80% {\n",
              "      border-color: transparent;\n",
              "      border-right-color: var(--fill-color);\n",
              "      border-bottom-color: var(--fill-color);\n",
              "    }\n",
              "    90% {\n",
              "      border-color: transparent;\n",
              "      border-bottom-color: var(--fill-color);\n",
              "    }\n",
              "  }\n",
              "</style>\n",
              "\n",
              "  <script>\n",
              "    async function quickchart(key) {\n",
              "      const quickchartButtonEl =\n",
              "        document.querySelector('#' + key + ' button');\n",
              "      quickchartButtonEl.disabled = true;  // To prevent multiple clicks.\n",
              "      quickchartButtonEl.classList.add('colab-df-spinner');\n",
              "      try {\n",
              "        const charts = await google.colab.kernel.invokeFunction(\n",
              "            'suggestCharts', [key], {});\n",
              "      } catch (error) {\n",
              "        console.error('Error during call to suggestCharts:', error);\n",
              "      }\n",
              "      quickchartButtonEl.classList.remove('colab-df-spinner');\n",
              "      quickchartButtonEl.classList.add('colab-df-quickchart-complete');\n",
              "    }\n",
              "    (() => {\n",
              "      let quickchartButtonEl =\n",
              "        document.querySelector('#df-420662c2-d6cd-4624-8cbe-70c5df4d562f button');\n",
              "      quickchartButtonEl.style.display =\n",
              "        google.colab.kernel.accessAllowed ? 'block' : 'none';\n",
              "    })();\n",
              "  </script>\n",
              "</div>\n",
              "\n",
              "    </div>\n",
              "  </div>\n"
            ],
            "application/vnd.google.colaboratory.intrinsic+json": {
              "type": "dataframe",
              "summary": "{\n  \"name\": \"df[df['HL'] == 1]\",\n  \"rows\": 5,\n  \"fields\": [\n    {\n      \"column\": \"category\",\n      \"properties\": {\n        \"dtype\": \"category\",\n        \"samples\": [\n          \"HEALTHY LIVING\"\n        ],\n        \"num_unique_values\": 1,\n        \"semantic_type\": \"\",\n        \"description\": \"\"\n      }\n    },\n    {\n      \"column\": \"headline\",\n      \"properties\": {\n        \"dtype\": \"string\",\n        \"samples\": [\n          \"Eating Shake Shack Made Me Feel Healthier Than Dieting Ever Did\"\n        ],\n        \"num_unique_values\": 5,\n        \"semantic_type\": \"\",\n        \"description\": \"\"\n      }\n    },\n    {\n      \"column\": \"authors\",\n      \"properties\": {\n        \"dtype\": \"string\",\n        \"samples\": [\n          \"Colleen Werner, ContributorCampus Editor-at-Large\"\n        ],\n        \"num_unique_values\": 4,\n        \"semantic_type\": \"\",\n        \"description\": \"\"\n      }\n    },\n    {\n      \"column\": \"link\",\n      \"properties\": {\n        \"dtype\": \"string\",\n        \"samples\": [\n          \"https://www.huffingtonpost.com/entry/eating-shake-shack-made-me-feel-healthier-than-dieting_us_5a58f948e4b01ccdd48b5bcc\"\n        ],\n        \"num_unique_values\": 5,\n        \"semantic_type\": \"\",\n        \"description\": \"\"\n      }\n    },\n    {\n      \"column\": \"short_description\",\n      \"properties\": {\n        \"dtype\": \"string\",\n        \"samples\": [\n          \"I can vividly remember the first time I felt fear and frustration around food. I was 10 years old, I had just learned about\"\n        ],\n        \"num_unique_values\": 5,\n        \"semantic_type\": \"\",\n        \"description\": \"\"\n      }\n    },\n    {\n      \"column\": \"date\",\n      \"properties\": {\n        \"dtype\": \"object\",\n        \"min\": \"2018-01-10\",\n        \"max\": \"2018-01-16\",\n        \"samples\": [\n          \"2018-01-16\"\n        ],\n        \"num_unique_values\": 3,\n        \"semantic_type\": \"\",\n        \"description\": \"\"\n      }\n    },\n    {\n      \"column\": \"combined\",\n      \"properties\": {\n        \"dtype\": \"string\",\n        \"samples\": [\n          \"Eating Shake Shack Made Me Feel Healthier Than Dieting Ever Did I can vividly remember the first time I felt fear and frustration around food. I was 10 years old, I had just learned about\"\n        ],\n        \"num_unique_values\": 5,\n        \"semantic_type\": \"\",\n        \"description\": \"\"\n      }\n    },\n    {\n      \"column\": \"combined_link\",\n      \"properties\": {\n        \"dtype\": \"string\",\n        \"samples\": [\n          \"Eating Shake Shack Made Me Feel Healthier Than Dieting Ever Did I can vividly remember the first time I felt fear and frustration around food. I was 10 years old, I had just learned about https://www.huffingtonpost.com/entry/eating-shake-shack-made-me-feel-healthier-than-dieting_us_5a58f948e4b01ccdd48b5bcc\"\n        ],\n        \"num_unique_values\": 5,\n        \"semantic_type\": \"\",\n        \"description\": \"\"\n      }\n    },\n    {\n      \"column\": \"label\",\n      \"properties\": {\n        \"dtype\": \"number\",\n        \"std\": 0,\n        \"min\": 1,\n        \"max\": 1,\n        \"samples\": [\n          1\n        ],\n        \"num_unique_values\": 1,\n        \"semantic_type\": \"\",\n        \"description\": \"\"\n      }\n    },\n    {\n      \"column\": \"HL\",\n      \"properties\": {\n        \"dtype\": \"number\",\n        \"std\": 0,\n        \"min\": 1,\n        \"max\": 1,\n        \"samples\": [\n          1\n        ],\n        \"num_unique_values\": 1,\n        \"semantic_type\": \"\",\n        \"description\": \"\"\n      }\n    }\n  ]\n}"
            }
          },
          "metadata": {},
          "execution_count": 33
        }
      ]
    },
    {
      "cell_type": "markdown",
      "source": [
        "### Code used from course materials. I liked the simplicity and efficiency of this approach"
      ],
      "metadata": {
        "id": "j-R5xuI7owd8"
      }
    },
    {
      "cell_type": "code",
      "source": [
        "neg_sample = len(df[df['HL'] == 1])\n",
        "\n",
        "pos = df[df['HL'] == 1]\n",
        "neg = df[df['HL'] == 0].sample(neg_sample)\n",
        "\n",
        "data = pd.concat([pos, neg])\n",
        "\n",
        "data.head()"
      ],
      "metadata": {
        "colab": {
          "base_uri": "https://localhost:8080/",
          "height": 695
        },
        "id": "MQ1ap6LsB76e",
        "outputId": "b05912f8-ff26-4f48-9ccb-398465c8a491"
      },
      "execution_count": 34,
      "outputs": [
        {
          "output_type": "execute_result",
          "data": {
            "text/plain": [
              "            category                                           headline  \\\n",
              "7578  HEALTHY LIVING  To The People Who Say ‘I’m Tired’ When Someone...   \n",
              "7693  HEALTHY LIVING  Eating Shake Shack Made Me Feel Healthier Than...   \n",
              "7747  HEALTHY LIVING  How To Stay Updated On The News Without Losing...   \n",
              "7927  HEALTHY LIVING  27 Perfect Tweets About Whole30 That Will Make...   \n",
              "7934  HEALTHY LIVING         The Real Reason Your Hands Are Always Cold   \n",
              "\n",
              "                                                authors  \\\n",
              "7578  The Mighty, ContributorWe face disability, dis...   \n",
              "7693  Colleen Werner, ContributorCampus Editor-at-Large   \n",
              "7747                                     Lindsay Holmes   \n",
              "7927                                     Lindsay Holmes   \n",
              "7934  Refinery29, ContributorThe #1 new-media brand ...   \n",
              "\n",
              "                                                   link  \\\n",
              "7578  https://www.huffingtonpost.com/entry/to-the-pe...   \n",
              "7693  https://www.huffingtonpost.com/entry/eating-sh...   \n",
              "7747  https://www.huffingtonpost.com/entry/anxiety-f...   \n",
              "7927  https://www.huffingtonpost.com/entry/tweets-ab...   \n",
              "7934  https://www.huffingtonpost.com/entry/the-real-...   \n",
              "\n",
              "                                      short_description        date  \\\n",
              "7578  When you feel like this, it’s important to kno...  2018-01-16   \n",
              "7693  I can vividly remember the first time I felt f...  2018-01-12   \n",
              "7747     Because it's only becoming more of a struggle.  2018-01-12   \n",
              "7927  \"The only Whole30 I want to participate in is ...  2018-01-10   \n",
              "7934  Essentially, your hands are kept warm thanks t...  2018-01-10   \n",
              "\n",
              "                                               combined  \\\n",
              "7578  To The People Who Say ‘I’m Tired’ When Someone...   \n",
              "7693  Eating Shake Shack Made Me Feel Healthier Than...   \n",
              "7747  How To Stay Updated On The News Without Losing...   \n",
              "7927  27 Perfect Tweets About Whole30 That Will Make...   \n",
              "7934  The Real Reason Your Hands Are Always Cold Ess...   \n",
              "\n",
              "                                          combined_link  label  HL  \n",
              "7578  To The People Who Say ‘I’m Tired’ When Someone...      1   1  \n",
              "7693  Eating Shake Shack Made Me Feel Healthier Than...      1   1  \n",
              "7747  How To Stay Updated On The News Without Losing...      1   1  \n",
              "7927  27 Perfect Tweets About Whole30 That Will Make...      1   1  \n",
              "7934  The Real Reason Your Hands Are Always Cold Ess...      1   1  "
            ],
            "text/html": [
              "\n",
              "  <div id=\"df-3f890b78-c5e3-4bf4-9370-c54e0e074798\" class=\"colab-df-container\">\n",
              "    <div>\n",
              "<style scoped>\n",
              "    .dataframe tbody tr th:only-of-type {\n",
              "        vertical-align: middle;\n",
              "    }\n",
              "\n",
              "    .dataframe tbody tr th {\n",
              "        vertical-align: top;\n",
              "    }\n",
              "\n",
              "    .dataframe thead th {\n",
              "        text-align: right;\n",
              "    }\n",
              "</style>\n",
              "<table border=\"1\" class=\"dataframe\">\n",
              "  <thead>\n",
              "    <tr style=\"text-align: right;\">\n",
              "      <th></th>\n",
              "      <th>category</th>\n",
              "      <th>headline</th>\n",
              "      <th>authors</th>\n",
              "      <th>link</th>\n",
              "      <th>short_description</th>\n",
              "      <th>date</th>\n",
              "      <th>combined</th>\n",
              "      <th>combined_link</th>\n",
              "      <th>label</th>\n",
              "      <th>HL</th>\n",
              "    </tr>\n",
              "  </thead>\n",
              "  <tbody>\n",
              "    <tr>\n",
              "      <th>7578</th>\n",
              "      <td>HEALTHY LIVING</td>\n",
              "      <td>To The People Who Say ‘I’m Tired’ When Someone...</td>\n",
              "      <td>The Mighty, ContributorWe face disability, dis...</td>\n",
              "      <td>https://www.huffingtonpost.com/entry/to-the-pe...</td>\n",
              "      <td>When you feel like this, it’s important to kno...</td>\n",
              "      <td>2018-01-16</td>\n",
              "      <td>To The People Who Say ‘I’m Tired’ When Someone...</td>\n",
              "      <td>To The People Who Say ‘I’m Tired’ When Someone...</td>\n",
              "      <td>1</td>\n",
              "      <td>1</td>\n",
              "    </tr>\n",
              "    <tr>\n",
              "      <th>7693</th>\n",
              "      <td>HEALTHY LIVING</td>\n",
              "      <td>Eating Shake Shack Made Me Feel Healthier Than...</td>\n",
              "      <td>Colleen Werner, ContributorCampus Editor-at-Large</td>\n",
              "      <td>https://www.huffingtonpost.com/entry/eating-sh...</td>\n",
              "      <td>I can vividly remember the first time I felt f...</td>\n",
              "      <td>2018-01-12</td>\n",
              "      <td>Eating Shake Shack Made Me Feel Healthier Than...</td>\n",
              "      <td>Eating Shake Shack Made Me Feel Healthier Than...</td>\n",
              "      <td>1</td>\n",
              "      <td>1</td>\n",
              "    </tr>\n",
              "    <tr>\n",
              "      <th>7747</th>\n",
              "      <td>HEALTHY LIVING</td>\n",
              "      <td>How To Stay Updated On The News Without Losing...</td>\n",
              "      <td>Lindsay Holmes</td>\n",
              "      <td>https://www.huffingtonpost.com/entry/anxiety-f...</td>\n",
              "      <td>Because it's only becoming more of a struggle.</td>\n",
              "      <td>2018-01-12</td>\n",
              "      <td>How To Stay Updated On The News Without Losing...</td>\n",
              "      <td>How To Stay Updated On The News Without Losing...</td>\n",
              "      <td>1</td>\n",
              "      <td>1</td>\n",
              "    </tr>\n",
              "    <tr>\n",
              "      <th>7927</th>\n",
              "      <td>HEALTHY LIVING</td>\n",
              "      <td>27 Perfect Tweets About Whole30 That Will Make...</td>\n",
              "      <td>Lindsay Holmes</td>\n",
              "      <td>https://www.huffingtonpost.com/entry/tweets-ab...</td>\n",
              "      <td>\"The only Whole30 I want to participate in is ...</td>\n",
              "      <td>2018-01-10</td>\n",
              "      <td>27 Perfect Tweets About Whole30 That Will Make...</td>\n",
              "      <td>27 Perfect Tweets About Whole30 That Will Make...</td>\n",
              "      <td>1</td>\n",
              "      <td>1</td>\n",
              "    </tr>\n",
              "    <tr>\n",
              "      <th>7934</th>\n",
              "      <td>HEALTHY LIVING</td>\n",
              "      <td>The Real Reason Your Hands Are Always Cold</td>\n",
              "      <td>Refinery29, ContributorThe #1 new-media brand ...</td>\n",
              "      <td>https://www.huffingtonpost.com/entry/the-real-...</td>\n",
              "      <td>Essentially, your hands are kept warm thanks t...</td>\n",
              "      <td>2018-01-10</td>\n",
              "      <td>The Real Reason Your Hands Are Always Cold Ess...</td>\n",
              "      <td>The Real Reason Your Hands Are Always Cold Ess...</td>\n",
              "      <td>1</td>\n",
              "      <td>1</td>\n",
              "    </tr>\n",
              "  </tbody>\n",
              "</table>\n",
              "</div>\n",
              "    <div class=\"colab-df-buttons\">\n",
              "\n",
              "  <div class=\"colab-df-container\">\n",
              "    <button class=\"colab-df-convert\" onclick=\"convertToInteractive('df-3f890b78-c5e3-4bf4-9370-c54e0e074798')\"\n",
              "            title=\"Convert this dataframe to an interactive table.\"\n",
              "            style=\"display:none;\">\n",
              "\n",
              "  <svg xmlns=\"http://www.w3.org/2000/svg\" height=\"24px\" viewBox=\"0 -960 960 960\">\n",
              "    <path d=\"M120-120v-720h720v720H120Zm60-500h600v-160H180v160Zm220 220h160v-160H400v160Zm0 220h160v-160H400v160ZM180-400h160v-160H180v160Zm440 0h160v-160H620v160ZM180-180h160v-160H180v160Zm440 0h160v-160H620v160Z\"/>\n",
              "  </svg>\n",
              "    </button>\n",
              "\n",
              "  <style>\n",
              "    .colab-df-container {\n",
              "      display:flex;\n",
              "      gap: 12px;\n",
              "    }\n",
              "\n",
              "    .colab-df-convert {\n",
              "      background-color: #E8F0FE;\n",
              "      border: none;\n",
              "      border-radius: 50%;\n",
              "      cursor: pointer;\n",
              "      display: none;\n",
              "      fill: #1967D2;\n",
              "      height: 32px;\n",
              "      padding: 0 0 0 0;\n",
              "      width: 32px;\n",
              "    }\n",
              "\n",
              "    .colab-df-convert:hover {\n",
              "      background-color: #E2EBFA;\n",
              "      box-shadow: 0px 1px 2px rgba(60, 64, 67, 0.3), 0px 1px 3px 1px rgba(60, 64, 67, 0.15);\n",
              "      fill: #174EA6;\n",
              "    }\n",
              "\n",
              "    .colab-df-buttons div {\n",
              "      margin-bottom: 4px;\n",
              "    }\n",
              "\n",
              "    [theme=dark] .colab-df-convert {\n",
              "      background-color: #3B4455;\n",
              "      fill: #D2E3FC;\n",
              "    }\n",
              "\n",
              "    [theme=dark] .colab-df-convert:hover {\n",
              "      background-color: #434B5C;\n",
              "      box-shadow: 0px 1px 3px 1px rgba(0, 0, 0, 0.15);\n",
              "      filter: drop-shadow(0px 1px 2px rgba(0, 0, 0, 0.3));\n",
              "      fill: #FFFFFF;\n",
              "    }\n",
              "  </style>\n",
              "\n",
              "    <script>\n",
              "      const buttonEl =\n",
              "        document.querySelector('#df-3f890b78-c5e3-4bf4-9370-c54e0e074798 button.colab-df-convert');\n",
              "      buttonEl.style.display =\n",
              "        google.colab.kernel.accessAllowed ? 'block' : 'none';\n",
              "\n",
              "      async function convertToInteractive(key) {\n",
              "        const element = document.querySelector('#df-3f890b78-c5e3-4bf4-9370-c54e0e074798');\n",
              "        const dataTable =\n",
              "          await google.colab.kernel.invokeFunction('convertToInteractive',\n",
              "                                                    [key], {});\n",
              "        if (!dataTable) return;\n",
              "\n",
              "        const docLinkHtml = 'Like what you see? Visit the ' +\n",
              "          '<a target=\"_blank\" href=https://colab.research.google.com/notebooks/data_table.ipynb>data table notebook</a>'\n",
              "          + ' to learn more about interactive tables.';\n",
              "        element.innerHTML = '';\n",
              "        dataTable['output_type'] = 'display_data';\n",
              "        await google.colab.output.renderOutput(dataTable, element);\n",
              "        const docLink = document.createElement('div');\n",
              "        docLink.innerHTML = docLinkHtml;\n",
              "        element.appendChild(docLink);\n",
              "      }\n",
              "    </script>\n",
              "  </div>\n",
              "\n",
              "\n",
              "<div id=\"df-5296d33e-1078-4ef9-924e-78ccb82202b9\">\n",
              "  <button class=\"colab-df-quickchart\" onclick=\"quickchart('df-5296d33e-1078-4ef9-924e-78ccb82202b9')\"\n",
              "            title=\"Suggest charts\"\n",
              "            style=\"display:none;\">\n",
              "\n",
              "<svg xmlns=\"http://www.w3.org/2000/svg\" height=\"24px\"viewBox=\"0 0 24 24\"\n",
              "     width=\"24px\">\n",
              "    <g>\n",
              "        <path d=\"M19 3H5c-1.1 0-2 .9-2 2v14c0 1.1.9 2 2 2h14c1.1 0 2-.9 2-2V5c0-1.1-.9-2-2-2zM9 17H7v-7h2v7zm4 0h-2V7h2v10zm4 0h-2v-4h2v4z\"/>\n",
              "    </g>\n",
              "</svg>\n",
              "  </button>\n",
              "\n",
              "<style>\n",
              "  .colab-df-quickchart {\n",
              "      --bg-color: #E8F0FE;\n",
              "      --fill-color: #1967D2;\n",
              "      --hover-bg-color: #E2EBFA;\n",
              "      --hover-fill-color: #174EA6;\n",
              "      --disabled-fill-color: #AAA;\n",
              "      --disabled-bg-color: #DDD;\n",
              "  }\n",
              "\n",
              "  [theme=dark] .colab-df-quickchart {\n",
              "      --bg-color: #3B4455;\n",
              "      --fill-color: #D2E3FC;\n",
              "      --hover-bg-color: #434B5C;\n",
              "      --hover-fill-color: #FFFFFF;\n",
              "      --disabled-bg-color: #3B4455;\n",
              "      --disabled-fill-color: #666;\n",
              "  }\n",
              "\n",
              "  .colab-df-quickchart {\n",
              "    background-color: var(--bg-color);\n",
              "    border: none;\n",
              "    border-radius: 50%;\n",
              "    cursor: pointer;\n",
              "    display: none;\n",
              "    fill: var(--fill-color);\n",
              "    height: 32px;\n",
              "    padding: 0;\n",
              "    width: 32px;\n",
              "  }\n",
              "\n",
              "  .colab-df-quickchart:hover {\n",
              "    background-color: var(--hover-bg-color);\n",
              "    box-shadow: 0 1px 2px rgba(60, 64, 67, 0.3), 0 1px 3px 1px rgba(60, 64, 67, 0.15);\n",
              "    fill: var(--button-hover-fill-color);\n",
              "  }\n",
              "\n",
              "  .colab-df-quickchart-complete:disabled,\n",
              "  .colab-df-quickchart-complete:disabled:hover {\n",
              "    background-color: var(--disabled-bg-color);\n",
              "    fill: var(--disabled-fill-color);\n",
              "    box-shadow: none;\n",
              "  }\n",
              "\n",
              "  .colab-df-spinner {\n",
              "    border: 2px solid var(--fill-color);\n",
              "    border-color: transparent;\n",
              "    border-bottom-color: var(--fill-color);\n",
              "    animation:\n",
              "      spin 1s steps(1) infinite;\n",
              "  }\n",
              "\n",
              "  @keyframes spin {\n",
              "    0% {\n",
              "      border-color: transparent;\n",
              "      border-bottom-color: var(--fill-color);\n",
              "      border-left-color: var(--fill-color);\n",
              "    }\n",
              "    20% {\n",
              "      border-color: transparent;\n",
              "      border-left-color: var(--fill-color);\n",
              "      border-top-color: var(--fill-color);\n",
              "    }\n",
              "    30% {\n",
              "      border-color: transparent;\n",
              "      border-left-color: var(--fill-color);\n",
              "      border-top-color: var(--fill-color);\n",
              "      border-right-color: var(--fill-color);\n",
              "    }\n",
              "    40% {\n",
              "      border-color: transparent;\n",
              "      border-right-color: var(--fill-color);\n",
              "      border-top-color: var(--fill-color);\n",
              "    }\n",
              "    60% {\n",
              "      border-color: transparent;\n",
              "      border-right-color: var(--fill-color);\n",
              "    }\n",
              "    80% {\n",
              "      border-color: transparent;\n",
              "      border-right-color: var(--fill-color);\n",
              "      border-bottom-color: var(--fill-color);\n",
              "    }\n",
              "    90% {\n",
              "      border-color: transparent;\n",
              "      border-bottom-color: var(--fill-color);\n",
              "    }\n",
              "  }\n",
              "</style>\n",
              "\n",
              "  <script>\n",
              "    async function quickchart(key) {\n",
              "      const quickchartButtonEl =\n",
              "        document.querySelector('#' + key + ' button');\n",
              "      quickchartButtonEl.disabled = true;  // To prevent multiple clicks.\n",
              "      quickchartButtonEl.classList.add('colab-df-spinner');\n",
              "      try {\n",
              "        const charts = await google.colab.kernel.invokeFunction(\n",
              "            'suggestCharts', [key], {});\n",
              "      } catch (error) {\n",
              "        console.error('Error during call to suggestCharts:', error);\n",
              "      }\n",
              "      quickchartButtonEl.classList.remove('colab-df-spinner');\n",
              "      quickchartButtonEl.classList.add('colab-df-quickchart-complete');\n",
              "    }\n",
              "    (() => {\n",
              "      let quickchartButtonEl =\n",
              "        document.querySelector('#df-5296d33e-1078-4ef9-924e-78ccb82202b9 button');\n",
              "      quickchartButtonEl.style.display =\n",
              "        google.colab.kernel.accessAllowed ? 'block' : 'none';\n",
              "    })();\n",
              "  </script>\n",
              "</div>\n",
              "\n",
              "    </div>\n",
              "  </div>\n"
            ],
            "application/vnd.google.colaboratory.intrinsic+json": {
              "type": "dataframe",
              "variable_name": "data",
              "summary": "{\n  \"name\": \"data\",\n  \"rows\": 13388,\n  \"fields\": [\n    {\n      \"column\": \"category\",\n      \"properties\": {\n        \"dtype\": \"category\",\n        \"samples\": [\n          \"CRIME\",\n          \"QUEER VOICES\",\n          \"TASTE\"\n        ],\n        \"num_unique_values\": 41,\n        \"semantic_type\": \"\",\n        \"description\": \"\"\n      }\n    },\n    {\n      \"column\": \"headline\",\n      \"properties\": {\n        \"dtype\": \"string\",\n        \"samples\": [\n          \"Opiate Addiction Is An Ongoing Crisis In America\",\n          \"A Holiday Craft Project That Will Bring The Whole Family Together\",\n          \"10 Tips For Living And Dealing With Anxiety In Relationships And Families\"\n        ],\n        \"num_unique_values\": 13367,\n        \"semantic_type\": \"\",\n        \"description\": \"\"\n      }\n    },\n    {\n      \"column\": \"authors\",\n      \"properties\": {\n        \"dtype\": \"category\",\n        \"samples\": [\n          \"Amy Roost, ContributorMulti-dimensional Suchness and Member of the Resistance\",\n          \"Lauren Slayton, ContributorRegistered Dietitian\",\n          \"Adam Bornstein, Contributor\\nNew York Times bestselling author and founder of BornFitness\"\n        ],\n        \"num_unique_values\": 4823,\n        \"semantic_type\": \"\",\n        \"description\": \"\"\n      }\n    },\n    {\n      \"column\": \"link\",\n      \"properties\": {\n        \"dtype\": \"string\",\n        \"samples\": [\n          \"https://www.huffingtonpost.com/entry/post_8083_b_5616983.html\",\n          \"https://www.huffingtonpost.com/entry/fearless-living-things-to-know_us_5b9d38afe4b03a1dcc85af1c\",\n          \"https://www.huffingtonpost.com/entry/jamie-dimon-donald-trump_us_589670cce4b09bd304bbb417\"\n        ],\n        \"num_unique_values\": 13388,\n        \"semantic_type\": \"\",\n        \"description\": \"\"\n      }\n    },\n    {\n      \"column\": \"short_description\",\n      \"properties\": {\n        \"dtype\": \"string\",\n        \"samples\": [\n          \"While he starved, she collected his Social Security benefits, cops said.\",\n          \"This week's\\u00a0Germanwings Airbus\\u00a0crash -- and recent reports that the co-pilot may have crashed the plane deliberately\\u00a0-- have\",\n          \"Watch the video above and check out more at GQ.com. Thankfully for the confused guys out there, GQ nabbed a few Victoria's\"\n        ],\n        \"num_unique_values\": 11219,\n        \"semantic_type\": \"\",\n        \"description\": \"\"\n      }\n    },\n    {\n      \"column\": \"date\",\n      \"properties\": {\n        \"dtype\": \"object\",\n        \"min\": \"2012-01-28\",\n        \"max\": \"2018-05-26\",\n        \"samples\": [\n          \"2017-10-24\",\n          \"2016-04-08\",\n          \"2015-10-08\"\n        ],\n        \"num_unique_values\": 2230,\n        \"semantic_type\": \"\",\n        \"description\": \"\"\n      }\n    },\n    {\n      \"column\": \"combined\",\n      \"properties\": {\n        \"dtype\": \"string\",\n        \"samples\": [\n          \"Celebrity Fitness: 10 Refreshingly Honest Body Confessions By Charlotte Andersen for Shape.com Click through the slideshow below for the real dirt on how these stars eat, exercise\",\n          \"Marc Jacobs & Victoria Beckham Bonded Over Louis Vuitton Bag It involved a fake (!) Louis Vuitton bag.\",\n          \"Depression: An Unnecessary Stigma Remember from the day we're born until the day we're buried, we don't do anything alone.  Therefore, don't be afraid to disclose your struggles and ask for help.  Being vulnerable to share your challenges isn't a weakness, but instead a strength. The challenge many times is convincing yourself otherwise.\"\n        ],\n        \"num_unique_values\": 13382,\n        \"semantic_type\": \"\",\n        \"description\": \"\"\n      }\n    },\n    {\n      \"column\": \"combined_link\",\n      \"properties\": {\n        \"dtype\": \"string\",\n        \"samples\": [\n          \"Visionary Leaders Seeking New Solution to the Old Problem of Improving Health of All Americans If leadership creates an environment where health is a priority, evidence shows other things are likely to fall in place -- important things, such as increases in job satisfaction, productivity and retention, as well as decreases in sick days and hopefully the anguish and expense of long-term medical care. https://www.huffingtonpost.com/entry/post_8083_b_5616983.html\",\n          \"Fearless Living: 4 Ways To Run Your Life With A Little Less Fear Smile At Strangers Schorn got her book's title from realizing how empowering it can be to make connections with others. \\\"There https://www.huffingtonpost.com/entry/fearless-living-things-to-know_us_5b9d38afe4b03a1dcc85af1c\",\n          \"Wall Street Is Even More Craven Than We Thought The new alliance between financial executives and Donald Trump. https://www.huffingtonpost.com/entry/jamie-dimon-donald-trump_us_589670cce4b09bd304bbb417\"\n        ],\n        \"num_unique_values\": 13388,\n        \"semantic_type\": \"\",\n        \"description\": \"\"\n      }\n    },\n    {\n      \"column\": \"label\",\n      \"properties\": {\n        \"dtype\": \"number\",\n        \"std\": 0,\n        \"min\": 0,\n        \"max\": 1,\n        \"samples\": [\n          0,\n          1\n        ],\n        \"num_unique_values\": 2,\n        \"semantic_type\": \"\",\n        \"description\": \"\"\n      }\n    },\n    {\n      \"column\": \"HL\",\n      \"properties\": {\n        \"dtype\": \"number\",\n        \"std\": 0,\n        \"min\": 0,\n        \"max\": 1,\n        \"samples\": [\n          0,\n          1\n        ],\n        \"num_unique_values\": 2,\n        \"semantic_type\": \"\",\n        \"description\": \"\"\n      }\n    }\n  ]\n}"
            }
          },
          "metadata": {},
          "execution_count": 34
        }
      ]
    },
    {
      "cell_type": "code",
      "source": [
        "len(data)"
      ],
      "metadata": {
        "colab": {
          "base_uri": "https://localhost:8080/"
        },
        "id": "a7SF83IiB79o",
        "outputId": "dc6da475-6af6-4a8d-c434-d08ca8daee9c"
      },
      "execution_count": 35,
      "outputs": [
        {
          "output_type": "execute_result",
          "data": {
            "text/plain": [
              "13388"
            ]
          },
          "metadata": {},
          "execution_count": 35
        }
      ]
    },
    {
      "cell_type": "markdown",
      "source": [
        "### I stuck with the distilbert preprocessing model as well as the single n-gram for my base model. I was pleased with the ngram_range = 1 and I figure it is the simpler model. Since the distilbert model has proven to be effective, my next model will adjust the ngram_range for a tuning adjustment."
      ],
      "metadata": {
        "id": "5pn1oH-Vo07N"
      }
    },
    {
      "cell_type": "code",
      "source": [
        "train, val, preprocess = texts_from_df(data, 'combined_link', label_columns=['HL'], val_df=None, max_features=20000,\n",
        "                                       maxlen=512, val_pct=0.1, ngram_range=1, preprocess_mode='distilbert', verbose=1)"
      ],
      "metadata": {
        "colab": {
          "base_uri": "https://localhost:8080/",
          "height": 485
        },
        "id": "4Fo8nUABB8AS",
        "outputId": "6e448f2c-0021-4e5a-8496-0bdb8e9c9664"
      },
      "execution_count": 36,
      "outputs": [
        {
          "output_type": "stream",
          "name": "stdout",
          "text": [
            "['not_HL', 'HL']\n",
            "        not_HL   HL\n",
            "66581      0.0  1.0\n",
            "119941     1.0  0.0\n",
            "92565      0.0  1.0\n",
            "93270      0.0  1.0\n",
            "21576      0.0  1.0\n",
            "['not_HL', 'HL']\n",
            "        not_HL   HL\n",
            "29405      0.0  1.0\n",
            "175299     1.0  0.0\n",
            "91542      0.0  1.0\n",
            "94668      1.0  0.0\n",
            "8341       1.0  0.0\n",
            "preprocessing train...\n",
            "language: en\n",
            "train sequence lengths:\n",
            "\tmean : 30\n",
            "\t95percentile : 60\n",
            "\t99percentile : 72\n"
          ]
        },
        {
          "output_type": "display_data",
          "data": {
            "text/plain": [
              "<IPython.core.display.HTML object>"
            ],
            "text/html": [
              "\n",
              "<style>\n",
              "    /* Turns off some styling */\n",
              "    progress {\n",
              "        /* gets rid of default border in Firefox and Opera. */\n",
              "        border: none;\n",
              "        /* Needs to be in here for Safari polyfill so background images work as expected. */\n",
              "        background-size: auto;\n",
              "    }\n",
              "    progress:not([value]), progress:not([value])::-webkit-progress-bar {\n",
              "        background: repeating-linear-gradient(45deg, #7e7e7e, #7e7e7e 10px, #5c5c5c 10px, #5c5c5c 20px);\n",
              "    }\n",
              "    .progress-bar-interrupted, .progress-bar-interrupted::-webkit-progress-bar {\n",
              "        background: #F44336;\n",
              "    }\n",
              "</style>\n"
            ]
          },
          "metadata": {}
        },
        {
          "output_type": "display_data",
          "data": {
            "text/plain": [
              "<IPython.core.display.HTML object>"
            ],
            "text/html": []
          },
          "metadata": {}
        },
        {
          "output_type": "stream",
          "name": "stdout",
          "text": [
            "Is Multi-Label? False\n",
            "preprocessing test...\n",
            "language: en\n",
            "test sequence lengths:\n",
            "\tmean : 30\n",
            "\t95percentile : 60\n",
            "\t99percentile : 72\n"
          ]
        },
        {
          "output_type": "display_data",
          "data": {
            "text/plain": [
              "<IPython.core.display.HTML object>"
            ],
            "text/html": [
              "\n",
              "<style>\n",
              "    /* Turns off some styling */\n",
              "    progress {\n",
              "        /* gets rid of default border in Firefox and Opera. */\n",
              "        border: none;\n",
              "        /* Needs to be in here for Safari polyfill so background images work as expected. */\n",
              "        background-size: auto;\n",
              "    }\n",
              "    progress:not([value]), progress:not([value])::-webkit-progress-bar {\n",
              "        background: repeating-linear-gradient(45deg, #7e7e7e, #7e7e7e 10px, #5c5c5c 10px, #5c5c5c 20px);\n",
              "    }\n",
              "    .progress-bar-interrupted, .progress-bar-interrupted::-webkit-progress-bar {\n",
              "        background: #F44336;\n",
              "    }\n",
              "</style>\n"
            ]
          },
          "metadata": {}
        },
        {
          "output_type": "display_data",
          "data": {
            "text/plain": [
              "<IPython.core.display.HTML object>"
            ],
            "text/html": []
          },
          "metadata": {}
        }
      ]
    },
    {
      "cell_type": "code",
      "source": [
        "model = preprocess.get_classifier()\n",
        "learner = ktrain.get_learner(model, train_data=train, val_data=val, batch_size=16)"
      ],
      "metadata": {
        "id": "Ydm3XNXoCSLw"
      },
      "execution_count": 9,
      "outputs": []
    },
    {
      "cell_type": "markdown",
      "source": [
        "### Just as in class, loss was minimized at .0001"
      ],
      "metadata": {
        "id": "jtzQ5HLHpJRl"
      }
    },
    {
      "cell_type": "code",
      "source": [
        "learner.lr_find(max_epochs=6)"
      ],
      "metadata": {
        "colab": {
          "base_uri": "https://localhost:8080/"
        },
        "id": "hvbLYTeACSOC",
        "outputId": "9242d006-b8f8-4567-9f81-c2107aca0dec"
      },
      "execution_count": 10,
      "outputs": [
        {
          "output_type": "stream",
          "name": "stdout",
          "text": [
            "simulating training for different learning rates... this may take a few moments...\n",
            "Epoch 1/6\n",
            "753/753 [==============================] - 233s 291ms/step - loss: 0.6453 - accuracy: 0.6351\n",
            "Epoch 2/6\n",
            "753/753 [==============================] - 222s 294ms/step - loss: 0.2563 - accuracy: 0.9048\n",
            "Epoch 3/6\n",
            "753/753 [==============================] - 221s 294ms/step - loss: 0.3857 - accuracy: 0.7943\n",
            "Epoch 4/6\n",
            "753/753 [==============================] - 221s 293ms/step - loss: 0.6949 - accuracy: 0.4962\n",
            "Epoch 5/6\n",
            "753/753 [==============================] - 58s 77ms/step - loss: 17.6789 - accuracy: 0.4948\n",
            "\n",
            "\n",
            "done.\n",
            "Please invoke the Learner.lr_plot() method to visually inspect the loss plot to help identify the maximal learning rate associated with falling loss.\n"
          ]
        }
      ]
    },
    {
      "cell_type": "code",
      "source": [
        "learner.lr_plot()"
      ],
      "metadata": {
        "colab": {
          "base_uri": "https://localhost:8080/",
          "height": 454
        },
        "id": "ubWwpuuWCSQV",
        "outputId": "0191da8b-3fb2-42e9-bd97-647e56f5151b"
      },
      "execution_count": 11,
      "outputs": [
        {
          "output_type": "display_data",
          "data": {
            "text/plain": [
              "<Figure size 640x480 with 1 Axes>"
            ],
            "image/png": "[encoded data removed]"
          },
          "metadata": {}
        }
      ]
    },
    {
      "cell_type": "code",
      "source": [
        "hist = learner.autofit(1e-4,checkpoint_folder='/content/drive/MyDrive/checkpoint',epochs=12, early_stopping=True)"
      ],
      "metadata": {
        "colab": {
          "base_uri": "https://localhost:8080/"
        },
        "id": "7PpaJHaeDOf1",
        "outputId": "14165e21-7e55-4f89-da4f-1cfb04f30bb2"
      },
      "execution_count": 12,
      "outputs": [
        {
          "output_type": "stream",
          "name": "stdout",
          "text": [
            "\n",
            "\n",
            "begin training using triangular learning rate policy with max lr of 0.0001...\n",
            "Epoch 1/12\n",
            "754/754 [==============================] - 236s 300ms/step - loss: 0.2707 - accuracy: 0.8922 - val_loss: 0.2142 - val_accuracy: 0.9208\n",
            "Epoch 2/12\n",
            "753/754 [============================>.] - ETA: 0s - loss: 0.1387 - accuracy: 0.9543Restoring model weights from the end of the best epoch: 1.\n",
            "754/754 [==============================] - 224s 297ms/step - loss: 0.1387 - accuracy: 0.9543 - val_loss: 0.2171 - val_accuracy: 0.9223\n",
            "Epoch 2: early stopping\n",
            "Weights from best epoch have been loaded into model.\n"
          ]
        }
      ]
    },
    {
      "cell_type": "code",
      "source": [
        "predictor = ktrain.get_predictor(learner.model, preproc=preprocess)"
      ],
      "metadata": {
        "id": "lbCih_Z2IUgA"
      },
      "execution_count": 13,
      "outputs": []
    },
    {
      "cell_type": "code",
      "source": [
        "predictor.save(\"drive/MyDrive/final\")"
      ],
      "metadata": {
        "id": "dxtX7FpdIw9G"
      },
      "execution_count": 14,
      "outputs": []
    },
    {
      "cell_type": "markdown",
      "source": [
        "## Given that I want to present relevant articles to customers, I chose precision as my performance measure. Using the text column without the link yielded 84% precision. Using the link text in my predictor data increased precision to 89%.\n",
        "\n",
        "### This means that my first model can identify 89% of healthy living articles correctly."
      ],
      "metadata": {
        "id": "q27e8WNhpUT2"
      }
    },
    {
      "cell_type": "code",
      "source": [
        "validation = learner.validate(val_data=val, print_report=True)"
      ],
      "metadata": {
        "colab": {
          "base_uri": "https://localhost:8080/"
        },
        "id": "xfgv5QDSIaWQ",
        "outputId": "3929ca8c-9208-4dc2-86f8-af3fbf674c9d"
      },
      "execution_count": 15,
      "outputs": [
        {
          "output_type": "stream",
          "name": "stdout",
          "text": [
            "42/42 [==============================] - 5s 76ms/step\n",
            "              precision    recall  f1-score   support\n",
            "\n",
            "           0       0.95      0.89      0.92       664\n",
            "           1       0.89      0.96      0.92       675\n",
            "\n",
            "    accuracy                           0.92      1339\n",
            "   macro avg       0.92      0.92      0.92      1339\n",
            "weighted avg       0.92      0.92      0.92      1339\n",
            "\n"
          ]
        }
      ]
    },
    {
      "cell_type": "code",
      "source": [
        "!pip install https://github.com/amaiya/eli5-tf/archive/refs/heads/master.zip"
      ],
      "metadata": {
        "colab": {
          "base_uri": "https://localhost:8080/"
        },
        "id": "-ziNoRRVOAh3",
        "outputId": "48015e33-e0b9-4123-9b59-a3f554cd7603"
      },
      "execution_count": null,
      "outputs": [
        {
          "output_type": "stream",
          "name": "stdout",
          "text": [
            "Collecting https://github.com/amaiya/eli5-tf/archive/refs/heads/master.zip\n",
            "  Downloading https://github.com/amaiya/eli5-tf/archive/refs/heads/master.zip\n",
            "\u001b[2K     \u001b[32m|\u001b[0m \u001b[32m6.9 MB\u001b[0m \u001b[31m12.5 MB/s\u001b[0m \u001b[33m0:00:00\u001b[0m\n",
            "\u001b[?25h  Preparing metadata (setup.py) ... \u001b[?25l\u001b[?25hdone\n",
            "Requirement already satisfied: attrs>17.1.0 in /usr/local/lib/python3.10/dist-packages (from eli5==0.13.0) (23.2.0)\n",
            "Requirement already satisfied: jinja2>=3.0.0 in /usr/local/lib/python3.10/dist-packages (from eli5==0.13.0) (3.1.3)\n",
            "Requirement already satisfied: numpy>=1.9.0 in /usr/local/lib/python3.10/dist-packages (from eli5==0.13.0) (1.25.2)\n",
            "Requirement already satisfied: scipy in /usr/local/lib/python3.10/dist-packages (from eli5==0.13.0) (1.11.4)\n",
            "Requirement already satisfied: six in /usr/local/lib/python3.10/dist-packages (from eli5==0.13.0) (1.16.0)\n",
            "Requirement already satisfied: scikit-learn>=0.20 in /usr/local/lib/python3.10/dist-packages (from eli5==0.13.0) (1.2.2)\n",
            "Requirement already satisfied: graphviz in /usr/local/lib/python3.10/dist-packages (from eli5==0.13.0) (0.20.1)\n",
            "Requirement already satisfied: tabulate>=0.7.7 in /usr/local/lib/python3.10/dist-packages (from eli5==0.13.0) (0.9.0)\n",
            "Requirement already satisfied: MarkupSafe>=2.0 in /usr/local/lib/python3.10/dist-packages (from jinja2>=3.0.0->eli5==0.13.0) (2.1.5)\n",
            "Requirement already satisfied: joblib>=1.1.1 in /usr/local/lib/python3.10/dist-packages (from scikit-learn>=0.20->eli5==0.13.0) (1.3.2)\n",
            "Requirement already satisfied: threadpoolctl>=2.0.0 in /usr/local/lib/python3.10/dist-packages (from scikit-learn>=0.20->eli5==0.13.0) (3.2.0)\n",
            "Building wheels for collected packages: eli5\n",
            "  Building wheel for eli5 (setup.py) ... \u001b[?25l\u001b[?25hdone\n",
            "  Created wheel for eli5: filename=eli5-0.13.0-py2.py3-none-any.whl size=108157 sha256=bf8cd99a20ee3e097c86c8acedbc64da4cf42f112c9c3531505ede4adc81d62d\n",
            "  Stored in directory: /tmp/pip-ephem-wheel-cache-10hxypww/wheels/0b/14/54/23c07f7254b733dc3daac99ba1fda60e30f1b2991b3b8ee0bf\n",
            "Successfully built eli5\n",
            "Installing collected packages: eli5\n",
            "Successfully installed eli5-0.13.0\n"
          ]
        }
      ]
    },
    {
      "cell_type": "markdown",
      "source": [
        "## Testing the predictor"
      ],
      "metadata": {
        "id": "q_VknjE8pyRH"
      }
    },
    {
      "cell_type": "code",
      "source": [
        "predictor.explain('the goal is the eat the right foods')"
      ],
      "metadata": {
        "colab": {
          "base_uri": "https://localhost:8080/",
          "height": 170
        },
        "id": "g9Ov9LDaKvEX",
        "outputId": "252b6a49-1846-47a9-e27a-ac18a7e289fd"
      },
      "execution_count": null,
      "outputs": [
        {
          "output_type": "execute_result",
          "data": {
            "text/plain": [
              "<IPython.core.display.HTML object>"
            ],
            "text/html": [
              "\n",
              "    <style>\n",
              "    table.eli5-weights tr:hover {\n",
              "        filter: brightness(85%);\n",
              "    }\n",
              "</style>\n",
              "\n",
              "\n",
              "\n",
              "    \n",
              "\n",
              "    \n",
              "\n",
              "    \n",
              "\n",
              "    \n",
              "\n",
              "    \n",
              "\n",
              "    \n",
              "\n",
              "\n",
              "    \n",
              "\n",
              "    \n",
              "\n",
              "    \n",
              "\n",
              "    \n",
              "        \n",
              "\n",
              "    \n",
              "\n",
              "        \n",
              "\n",
              "        \n",
              "    \n",
              "        \n",
              "        \n",
              "    \n",
              "        <p style=\"margin-bottom: 0.5em; margin-top: 0em\">\n",
              "            <b>\n",
              "    \n",
              "        y=label\n",
              "    \n",
              "</b>\n",
              "\n",
              "    \n",
              "    (probability <b>0.951</b>, score <b>2.959</b>)\n",
              "\n",
              "top features\n",
              "        </p>\n",
              "    \n",
              "    <table class=\"eli5-weights\"\n",
              "           style=\"border-collapse: collapse; border: none; margin-top: 0em; table-layout: auto; margin-bottom: 2em;\">\n",
              "        <thead>\n",
              "        <tr style=\"border: none;\">\n",
              "            \n",
              "                <th style=\"padding: 0 1em 0 0.5em; text-align: right; border: none;\" title=\"Feature contribution already accounts for the feature value (for linear models, contribution = weight * feature value), and the sum of feature contributions is equal to the score or, for some classifiers, to the probability. Feature values are shown if &quot;show_feature_values&quot; is True.\">\n",
              "                    Contribution<sup>?</sup>\n",
              "                </th>\n",
              "            \n",
              "            <th style=\"padding: 0 0.5em 0 0.5em; text-align: left; border: none;\">Feature</th>\n",
              "            \n",
              "        </tr>\n",
              "        </thead>\n",
              "        <tbody>\n",
              "        \n",
              "            <tr style=\"background-color: hsl(120, 100.00%, 80.00%); border: none;\">\n",
              "    <td style=\"padding: 0 1em 0 0.5em; text-align: right; border: none;\">\n",
              "        +2.775\n",
              "    </td>\n",
              "    <td style=\"padding: 0 0.5em 0 0.5em; text-align: left; border: none;\">\n",
              "        Highlighted in text (sum)\n",
              "    </td>\n",
              "    \n",
              "</tr>\n",
              "        \n",
              "            <tr style=\"background-color: hsl(120, 100.00%, 97.01%); border: none;\">\n",
              "    <td style=\"padding: 0 1em 0 0.5em; text-align: right; border: none;\">\n",
              "        +0.184\n",
              "    </td>\n",
              "    <td style=\"padding: 0 0.5em 0 0.5em; text-align: left; border: none;\">\n",
              "        &lt;BIAS&gt;\n",
              "    </td>\n",
              "    \n",
              "</tr>\n",
              "        \n",
              "        \n",
              "\n",
              "        \n",
              "        \n",
              "\n",
              "        </tbody>\n",
              "    </table>\n",
              "\n",
              "    \n",
              "\n",
              "\n",
              "\n",
              "    <p style=\"margin-bottom: 2.5em; margin-top:-0.5em;\">\n",
              "        <span style=\"opacity: 0.80\">the </span><span style=\"background-color: hsl(120, 100.00%, 63.35%); opacity: 0.98\" title=\"0.835\">goal</span><span style=\"opacity: 0.80\"> </span><span style=\"background-color: hsl(120, 100.00%, 89.59%); opacity: 0.83\" title=\"0.138\">is</span><span style=\"opacity: 0.80\"> </span><span style=\"background-color: hsl(0, 100.00%, 83.12%); opacity: 0.86\" title=\"-0.276\">the</span><span style=\"opacity: 0.80\"> </span><span style=\"background-color: hsl(120, 100.00%, 62.71%); opacity: 0.98\" title=\"0.856\">eat</span><span style=\"opacity: 0.80\"> </span><span style=\"background-color: hsl(0, 100.00%, 91.70%); opacity: 0.82\" title=\"-0.100\">the</span><span style=\"opacity: 0.80\"> </span><span style=\"background-color: hsl(0, 100.00%, 91.86%); opacity: 0.82\" title=\"-0.097\">right</span><span style=\"opacity: 0.80\"> </span><span style=\"background-color: hsl(120, 100.00%, 60.00%); opacity: 1.00\" title=\"0.946\">foods</span>\n",
              "    </p>\n",
              "\n",
              "\n",
              "    \n",
              "\n",
              "    \n",
              "\n",
              "    \n",
              "\n",
              "    \n",
              "\n",
              "\n",
              "    \n",
              "\n",
              "    \n",
              "\n",
              "    \n",
              "\n",
              "    \n",
              "\n",
              "    \n",
              "\n",
              "    \n",
              "\n",
              "\n",
              "    \n",
              "\n",
              "    \n",
              "\n",
              "    \n",
              "\n",
              "    \n",
              "\n",
              "    \n",
              "\n",
              "    \n",
              "\n",
              "\n",
              "\n"
            ]
          },
          "metadata": {},
          "execution_count": 19
        }
      ]
    },
    {
      "cell_type": "code",
      "source": [
        "learner.view_top_losses(n=10, preproc=preprocess)"
      ],
      "metadata": {
        "colab": {
          "base_uri": "https://localhost:8080/"
        },
        "id": "SW-S04J3MO1j",
        "outputId": "72a12295-09af-4218-bc62-7b2f074651a4"
      },
      "execution_count": null,
      "outputs": [
        {
          "output_type": "stream",
          "name": "stdout",
          "text": [
            "42/42 [==============================] - 3s 62ms/step\n",
            "----------\n",
            "id:788 | loss:5.28 | true:label | pred:not_label)\n",
            "\n",
            "----------\n",
            "id:702 | loss:4.33 | true:label | pred:not_label)\n",
            "\n",
            "----------\n",
            "id:549 | loss:4.24 | true:not_label | pred:label)\n",
            "\n",
            "----------\n",
            "id:1172 | loss:4.01 | true:not_label | pred:label)\n",
            "\n",
            "----------\n",
            "id:656 | loss:3.99 | true:not_label | pred:label)\n",
            "\n",
            "----------\n",
            "id:690 | loss:3.95 | true:not_label | pred:label)\n",
            "\n",
            "----------\n",
            "id:887 | loss:3.86 | true:not_label | pred:label)\n",
            "\n",
            "----------\n",
            "id:318 | loss:3.81 | true:not_label | pred:label)\n",
            "\n",
            "----------\n",
            "id:173 | loss:3.65 | true:label | pred:not_label)\n",
            "\n",
            "----------\n",
            "id:608 | loss:3.62 | true:not_label | pred:label)\n",
            "\n"
          ]
        }
      ]
    },
    {
      "cell_type": "markdown",
      "source": [
        "## My next model (below) will adjust the ngram parameter to two instead of one. While testing my base models predictions, I noticed that words like food were negatively correlated with the healthy living label. Bigrams may help differientiate between 'health food' and the word 'food' itself by adjusting for context."
      ],
      "metadata": {
        "id": "1T37xtA8pVI6"
      }
    },
    {
      "cell_type": "code",
      "source": [
        "train2, val2, preprocess2 = texts_from_df(data, 'combined_link', label_columns=['HL'], val_df=None, max_features=20000,\n",
        "                                       maxlen=512, val_pct=0.1, ngram_range=2, preprocess_mode='distilbert', verbose=1)"
      ],
      "metadata": {
        "id": "Fhb-k9ko8cPm",
        "colab": {
          "base_uri": "https://localhost:8080/",
          "height": 485
        },
        "outputId": "5051acf9-5617-4be6-fa9d-c4c9e352bab8"
      },
      "execution_count": 37,
      "outputs": [
        {
          "output_type": "stream",
          "name": "stdout",
          "text": [
            "['not_HL', 'HL']\n",
            "        not_HL   HL\n",
            "102030     0.0  1.0\n",
            "14683      1.0  0.0\n",
            "104253     0.0  1.0\n",
            "99497      1.0  0.0\n",
            "43202      0.0  1.0\n",
            "['not_HL', 'HL']\n",
            "        not_HL   HL\n",
            "89605      0.0  1.0\n",
            "128723     1.0  0.0\n",
            "96937      0.0  1.0\n",
            "122357     0.0  1.0\n",
            "7447       1.0  0.0\n",
            "preprocessing train...\n",
            "language: en\n",
            "train sequence lengths:\n",
            "\tmean : 30\n",
            "\t95percentile : 60\n",
            "\t99percentile : 72\n"
          ]
        },
        {
          "output_type": "display_data",
          "data": {
            "text/plain": [
              "<IPython.core.display.HTML object>"
            ],
            "text/html": [
              "\n",
              "<style>\n",
              "    /* Turns off some styling */\n",
              "    progress {\n",
              "        /* gets rid of default border in Firefox and Opera. */\n",
              "        border: none;\n",
              "        /* Needs to be in here for Safari polyfill so background images work as expected. */\n",
              "        background-size: auto;\n",
              "    }\n",
              "    progress:not([value]), progress:not([value])::-webkit-progress-bar {\n",
              "        background: repeating-linear-gradient(45deg, #7e7e7e, #7e7e7e 10px, #5c5c5c 10px, #5c5c5c 20px);\n",
              "    }\n",
              "    .progress-bar-interrupted, .progress-bar-interrupted::-webkit-progress-bar {\n",
              "        background: #F44336;\n",
              "    }\n",
              "</style>\n"
            ]
          },
          "metadata": {}
        },
        {
          "output_type": "display_data",
          "data": {
            "text/plain": [
              "<IPython.core.display.HTML object>"
            ],
            "text/html": []
          },
          "metadata": {}
        },
        {
          "output_type": "stream",
          "name": "stdout",
          "text": [
            "Is Multi-Label? False\n",
            "preprocessing test...\n",
            "language: en\n",
            "test sequence lengths:\n",
            "\tmean : 30\n",
            "\t95percentile : 59\n",
            "\t99percentile : 70\n"
          ]
        },
        {
          "output_type": "display_data",
          "data": {
            "text/plain": [
              "<IPython.core.display.HTML object>"
            ],
            "text/html": [
              "\n",
              "<style>\n",
              "    /* Turns off some styling */\n",
              "    progress {\n",
              "        /* gets rid of default border in Firefox and Opera. */\n",
              "        border: none;\n",
              "        /* Needs to be in here for Safari polyfill so background images work as expected. */\n",
              "        background-size: auto;\n",
              "    }\n",
              "    progress:not([value]), progress:not([value])::-webkit-progress-bar {\n",
              "        background: repeating-linear-gradient(45deg, #7e7e7e, #7e7e7e 10px, #5c5c5c 10px, #5c5c5c 20px);\n",
              "    }\n",
              "    .progress-bar-interrupted, .progress-bar-interrupted::-webkit-progress-bar {\n",
              "        background: #F44336;\n",
              "    }\n",
              "</style>\n"
            ]
          },
          "metadata": {}
        },
        {
          "output_type": "display_data",
          "data": {
            "text/plain": [
              "<IPython.core.display.HTML object>"
            ],
            "text/html": []
          },
          "metadata": {}
        }
      ]
    },
    {
      "cell_type": "code",
      "source": [
        "model2 = preprocess2.get_classifier()\n",
        "learner2 = ktrain.get_learner(model2, train_data=train2, val_data=val2, batch_size=16)"
      ],
      "metadata": {
        "id": "ZQJ0YLWPZYzs"
      },
      "execution_count": 21,
      "outputs": []
    },
    {
      "cell_type": "code",
      "source": [
        "learner2.lr_find(max_epochs=6)"
      ],
      "metadata": {
        "colab": {
          "base_uri": "https://localhost:8080/"
        },
        "id": "FEg_6UQSZY8R",
        "outputId": "38bb520b-65f5-4c21-a1c6-9b1a7ccb1906"
      },
      "execution_count": 22,
      "outputs": [
        {
          "output_type": "stream",
          "name": "stdout",
          "text": [
            "simulating training for different learning rates... this may take a few moments...\n",
            "Epoch 1/6\n",
            "753/753 [==============================] - 230s 292ms/step - loss: 0.5867 - accuracy: 0.7098\n",
            "Epoch 2/6\n",
            "753/753 [==============================] - 222s 295ms/step - loss: 0.2421 - accuracy: 0.9075\n",
            "Epoch 3/6\n",
            "753/753 [==============================] - 222s 294ms/step - loss: 0.3526 - accuracy: 0.8215\n",
            "Epoch 4/6\n",
            "753/753 [==============================] - 221s 293ms/step - loss: 0.6971 - accuracy: 0.5091\n",
            "Epoch 5/6\n",
            "753/753 [==============================] - 35s 47ms/step - loss: 1.3686 - accuracy: 0.4872\n",
            "\n",
            "\n",
            "done.\n",
            "Please invoke the Learner.lr_plot() method to visually inspect the loss plot to help identify the maximal learning rate associated with falling loss.\n"
          ]
        }
      ]
    },
    {
      "cell_type": "code",
      "source": [
        "learner2.lr_plot()"
      ],
      "metadata": {
        "colab": {
          "base_uri": "https://localhost:8080/",
          "height": 454
        },
        "id": "Z4aj635xZY_L",
        "outputId": "96a05f5e-2749-44fc-9965-f54df801ed1f"
      },
      "execution_count": 24,
      "outputs": [
        {
          "output_type": "display_data",
          "data": {
            "text/plain": [
              "<Figure size 640x480 with 1 Axes>"
            ],
            "image/png": "[encoded data removed]"
          },
          "metadata": {}
        }
      ]
    },
    {
      "cell_type": "code",
      "source": [
        "hist2 = learner2.autofit(1e-4,checkpoint_folder='/content/drive/MyDrive/checkpoint2',epochs=12, early_stopping=True)"
      ],
      "metadata": {
        "colab": {
          "base_uri": "https://localhost:8080/"
        },
        "id": "Q69Rg53pZZBa",
        "outputId": "032af234-cc02-44b2-a014-3f204c042a99"
      },
      "execution_count": 25,
      "outputs": [
        {
          "output_type": "stream",
          "name": "stdout",
          "text": [
            "\n",
            "\n",
            "begin training using triangular learning rate policy with max lr of 0.0001...\n",
            "Epoch 1/12\n",
            "754/754 [==============================] - 237s 301ms/step - loss: 0.2704 - accuracy: 0.8889 - val_loss: 0.1943 - val_accuracy: 0.9276\n",
            "Epoch 2/12\n",
            "753/754 [============================>.] - ETA: 0s - loss: 0.1236 - accuracy: 0.9580Restoring model weights from the end of the best epoch: 1.\n",
            "754/754 [==============================] - 225s 298ms/step - loss: 0.1236 - accuracy: 0.9580 - val_loss: 0.2113 - val_accuracy: 0.9186\n",
            "Epoch 2: early stopping\n",
            "Weights from best epoch have been loaded into model.\n"
          ]
        }
      ]
    },
    {
      "cell_type": "code",
      "source": [
        "predictor2 = ktrain.get_predictor(learner2.model, preproc=preprocess2)"
      ],
      "metadata": {
        "id": "NxS5czrsZZEB"
      },
      "execution_count": 27,
      "outputs": []
    },
    {
      "cell_type": "markdown",
      "source": [
        "## Not only did my adjusted model outperform my first model, It performs extremely well correctly identifying 94% of healthy living articles."
      ],
      "metadata": {
        "id": "neUX0-FuqBzz"
      }
    },
    {
      "cell_type": "code",
      "source": [
        "validation2 = learner2.validate(val_data=val, print_report=True)"
      ],
      "metadata": {
        "colab": {
          "base_uri": "https://localhost:8080/"
        },
        "id": "TqKKDAgeaItz",
        "outputId": "3647af38-e66a-4e3c-b54b-9be8cf15b260"
      },
      "execution_count": 29,
      "outputs": [
        {
          "output_type": "stream",
          "name": "stdout",
          "text": [
            "42/42 [==============================] - 5s 75ms/step\n",
            "              precision    recall  f1-score   support\n",
            "\n",
            "           0       0.97      0.94      0.95       664\n",
            "           1       0.94      0.98      0.96       675\n",
            "\n",
            "    accuracy                           0.96      1339\n",
            "   macro avg       0.96      0.96      0.96      1339\n",
            "weighted avg       0.96      0.96      0.96      1339\n",
            "\n"
          ]
        }
      ]
    }
  ]
}